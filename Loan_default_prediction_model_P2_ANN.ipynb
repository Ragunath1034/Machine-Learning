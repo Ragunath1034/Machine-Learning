{
  "nbformat": 4,
  "nbformat_minor": 0,
  "metadata": {
    "colab": {
      "provenance": [],
      "mount_file_id": "1YhjTCot7O_uNHCyXGkkZmYVSW4f-33W2",
      "authorship_tag": "ABX9TyMSdMz2Dzf8bAKaUdsZkIEr",
      "include_colab_link": true
    },
    "kernelspec": {
      "name": "python3",
      "display_name": "Python 3"
    },
    "language_info": {
      "name": "python"
    }
  },
  "cells": [
    {
      "cell_type": "markdown",
      "metadata": {
        "id": "view-in-github",
        "colab_type": "text"
      },
      "source": [
        "<a href=\"https://colab.research.google.com/github/Ragunath1034/Machine-Learning/blob/main/Loan_default_prediction_model_P2_ANN.ipynb\" target=\"_parent\"><img src=\"https://colab.research.google.com/assets/colab-badge.svg\" alt=\"Open In Colab\"/></a>"
      ]
    },
    {
      "cell_type": "code",
      "execution_count": null,
      "metadata": {
        "colab": {
          "base_uri": "https://localhost:8080/"
        },
        "id": "npVuMlGPYsC3",
        "outputId": "be026ab7-d11e-4d32-c661-d319a4aedc6e"
      },
      "outputs": [
        {
          "output_type": "stream",
          "name": "stdout",
          "text": [
            "Drive already mounted at /content/drive/; to attempt to forcibly remount, call drive.mount(\"/content/drive/\", force_remount=True).\n"
          ]
        }
      ],
      "source": [
        "from google.colab import drive\n",
        "drive.mount('/content/drive/')"
      ]
    },
    {
      "cell_type": "code",
      "source": [
        "import pandas as pd, numpy as np, seaborn as sns, matplotlib.pyplot as plt\n",
        "%matplotlib inline"
      ],
      "metadata": {
        "id": "EVDa2r38doKm"
      },
      "execution_count": null,
      "outputs": []
    },
    {
      "cell_type": "markdown",
      "source": [
        "# New Section"
      ],
      "metadata": {
        "id": "flh3h7ftYaku"
      }
    },
    {
      "cell_type": "markdown",
      "source": [
        "Loading the cleaned data set form part-1"
      ],
      "metadata": {
        "id": "CG3_TohPINoP"
      }
    },
    {
      "cell_type": "code",
      "source": [
        "df = pd.read_csv('/content/drive/MyDrive/Colab Notebooks/Lending club_preprocessed.csv')"
      ],
      "metadata": {
        "id": "l0EYVRLkeGHn"
      },
      "execution_count": null,
      "outputs": []
    },
    {
      "cell_type": "code",
      "source": [
        "df.head()"
      ],
      "metadata": {
        "colab": {
          "base_uri": "https://localhost:8080/",
          "height": 317
        },
        "id": "eoXTRwuXea37",
        "outputId": "aea74570-ca37-4395-a64f-93304a40b685"
      },
      "execution_count": null,
      "outputs": [
        {
          "output_type": "execute_result",
          "data": {
            "text/plain": [
              "   Unnamed: 0  loan_amnt  term  int_rate  installment  annual_inc    dti  \\\n",
              "0           0    10000.0    36     11.44       329.48    117000.0  26.24   \n",
              "1           1     8000.0    36     11.99       265.68     65000.0  22.05   \n",
              "2           2    15600.0    36     10.49       506.97     43057.0  12.79   \n",
              "3           3     7200.0    36      6.49       220.65     54000.0   2.60   \n",
              "4           4    24375.0    60     17.27       609.33     55000.0  33.95   \n",
              "\n",
              "   open_acc  pub_rec  revol_bal  ...  zipcode_05113  zipcode_11650  \\\n",
              "0      16.0      0.0    36369.0  ...              0              0   \n",
              "1      17.0      0.0    20131.0  ...              1              0   \n",
              "2      13.0      0.0    11987.0  ...              1              0   \n",
              "3       6.0      0.0     5472.0  ...              0              0   \n",
              "4      13.0      0.0    24584.0  ...              0              1   \n",
              "\n",
              "   zipcode_22690  zipcode_29597  zipcode_30723  zipcode_48052  zipcode_70466  \\\n",
              "0              1              0              0              0              0   \n",
              "1              0              0              0              0              0   \n",
              "2              0              0              0              0              0   \n",
              "3              0              0              0              0              0   \n",
              "4              0              0              0              0              0   \n",
              "\n",
              "   zipcode_86630  zipcode_93700  earliest_cr_year  \n",
              "0              0              0              1990  \n",
              "1              0              0              2004  \n",
              "2              0              0              2007  \n",
              "3              0              0              2006  \n",
              "4              0              0              1999  \n",
              "\n",
              "[5 rows x 80 columns]"
            ],
            "text/html": [
              "\n",
              "  <div id=\"df-64c79c7b-4e9d-4cba-ad2c-afe228e2fbc0\">\n",
              "    <div class=\"colab-df-container\">\n",
              "      <div>\n",
              "<style scoped>\n",
              "    .dataframe tbody tr th:only-of-type {\n",
              "        vertical-align: middle;\n",
              "    }\n",
              "\n",
              "    .dataframe tbody tr th {\n",
              "        vertical-align: top;\n",
              "    }\n",
              "\n",
              "    .dataframe thead th {\n",
              "        text-align: right;\n",
              "    }\n",
              "</style>\n",
              "<table border=\"1\" class=\"dataframe\">\n",
              "  <thead>\n",
              "    <tr style=\"text-align: right;\">\n",
              "      <th></th>\n",
              "      <th>Unnamed: 0</th>\n",
              "      <th>loan_amnt</th>\n",
              "      <th>term</th>\n",
              "      <th>int_rate</th>\n",
              "      <th>installment</th>\n",
              "      <th>annual_inc</th>\n",
              "      <th>dti</th>\n",
              "      <th>open_acc</th>\n",
              "      <th>pub_rec</th>\n",
              "      <th>revol_bal</th>\n",
              "      <th>...</th>\n",
              "      <th>zipcode_05113</th>\n",
              "      <th>zipcode_11650</th>\n",
              "      <th>zipcode_22690</th>\n",
              "      <th>zipcode_29597</th>\n",
              "      <th>zipcode_30723</th>\n",
              "      <th>zipcode_48052</th>\n",
              "      <th>zipcode_70466</th>\n",
              "      <th>zipcode_86630</th>\n",
              "      <th>zipcode_93700</th>\n",
              "      <th>earliest_cr_year</th>\n",
              "    </tr>\n",
              "  </thead>\n",
              "  <tbody>\n",
              "    <tr>\n",
              "      <th>0</th>\n",
              "      <td>0</td>\n",
              "      <td>10000.0</td>\n",
              "      <td>36</td>\n",
              "      <td>11.44</td>\n",
              "      <td>329.48</td>\n",
              "      <td>117000.0</td>\n",
              "      <td>26.24</td>\n",
              "      <td>16.0</td>\n",
              "      <td>0.0</td>\n",
              "      <td>36369.0</td>\n",
              "      <td>...</td>\n",
              "      <td>0</td>\n",
              "      <td>0</td>\n",
              "      <td>1</td>\n",
              "      <td>0</td>\n",
              "      <td>0</td>\n",
              "      <td>0</td>\n",
              "      <td>0</td>\n",
              "      <td>0</td>\n",
              "      <td>0</td>\n",
              "      <td>1990</td>\n",
              "    </tr>\n",
              "    <tr>\n",
              "      <th>1</th>\n",
              "      <td>1</td>\n",
              "      <td>8000.0</td>\n",
              "      <td>36</td>\n",
              "      <td>11.99</td>\n",
              "      <td>265.68</td>\n",
              "      <td>65000.0</td>\n",
              "      <td>22.05</td>\n",
              "      <td>17.0</td>\n",
              "      <td>0.0</td>\n",
              "      <td>20131.0</td>\n",
              "      <td>...</td>\n",
              "      <td>1</td>\n",
              "      <td>0</td>\n",
              "      <td>0</td>\n",
              "      <td>0</td>\n",
              "      <td>0</td>\n",
              "      <td>0</td>\n",
              "      <td>0</td>\n",
              "      <td>0</td>\n",
              "      <td>0</td>\n",
              "      <td>2004</td>\n",
              "    </tr>\n",
              "    <tr>\n",
              "      <th>2</th>\n",
              "      <td>2</td>\n",
              "      <td>15600.0</td>\n",
              "      <td>36</td>\n",
              "      <td>10.49</td>\n",
              "      <td>506.97</td>\n",
              "      <td>43057.0</td>\n",
              "      <td>12.79</td>\n",
              "      <td>13.0</td>\n",
              "      <td>0.0</td>\n",
              "      <td>11987.0</td>\n",
              "      <td>...</td>\n",
              "      <td>1</td>\n",
              "      <td>0</td>\n",
              "      <td>0</td>\n",
              "      <td>0</td>\n",
              "      <td>0</td>\n",
              "      <td>0</td>\n",
              "      <td>0</td>\n",
              "      <td>0</td>\n",
              "      <td>0</td>\n",
              "      <td>2007</td>\n",
              "    </tr>\n",
              "    <tr>\n",
              "      <th>3</th>\n",
              "      <td>3</td>\n",
              "      <td>7200.0</td>\n",
              "      <td>36</td>\n",
              "      <td>6.49</td>\n",
              "      <td>220.65</td>\n",
              "      <td>54000.0</td>\n",
              "      <td>2.60</td>\n",
              "      <td>6.0</td>\n",
              "      <td>0.0</td>\n",
              "      <td>5472.0</td>\n",
              "      <td>...</td>\n",
              "      <td>0</td>\n",
              "      <td>0</td>\n",
              "      <td>0</td>\n",
              "      <td>0</td>\n",
              "      <td>0</td>\n",
              "      <td>0</td>\n",
              "      <td>0</td>\n",
              "      <td>0</td>\n",
              "      <td>0</td>\n",
              "      <td>2006</td>\n",
              "    </tr>\n",
              "    <tr>\n",
              "      <th>4</th>\n",
              "      <td>4</td>\n",
              "      <td>24375.0</td>\n",
              "      <td>60</td>\n",
              "      <td>17.27</td>\n",
              "      <td>609.33</td>\n",
              "      <td>55000.0</td>\n",
              "      <td>33.95</td>\n",
              "      <td>13.0</td>\n",
              "      <td>0.0</td>\n",
              "      <td>24584.0</td>\n",
              "      <td>...</td>\n",
              "      <td>0</td>\n",
              "      <td>1</td>\n",
              "      <td>0</td>\n",
              "      <td>0</td>\n",
              "      <td>0</td>\n",
              "      <td>0</td>\n",
              "      <td>0</td>\n",
              "      <td>0</td>\n",
              "      <td>0</td>\n",
              "      <td>1999</td>\n",
              "    </tr>\n",
              "  </tbody>\n",
              "</table>\n",
              "<p>5 rows × 80 columns</p>\n",
              "</div>\n",
              "      <button class=\"colab-df-convert\" onclick=\"convertToInteractive('df-64c79c7b-4e9d-4cba-ad2c-afe228e2fbc0')\"\n",
              "              title=\"Convert this dataframe to an interactive table.\"\n",
              "              style=\"display:none;\">\n",
              "        \n",
              "  <svg xmlns=\"http://www.w3.org/2000/svg\" height=\"24px\"viewBox=\"0 0 24 24\"\n",
              "       width=\"24px\">\n",
              "    <path d=\"M0 0h24v24H0V0z\" fill=\"none\"/>\n",
              "    <path d=\"M18.56 5.44l.94 2.06.94-2.06 2.06-.94-2.06-.94-.94-2.06-.94 2.06-2.06.94zm-11 1L8.5 8.5l.94-2.06 2.06-.94-2.06-.94L8.5 2.5l-.94 2.06-2.06.94zm10 10l.94 2.06.94-2.06 2.06-.94-2.06-.94-.94-2.06-.94 2.06-2.06.94z\"/><path d=\"M17.41 7.96l-1.37-1.37c-.4-.4-.92-.59-1.43-.59-.52 0-1.04.2-1.43.59L10.3 9.45l-7.72 7.72c-.78.78-.78 2.05 0 2.83L4 21.41c.39.39.9.59 1.41.59.51 0 1.02-.2 1.41-.59l7.78-7.78 2.81-2.81c.8-.78.8-2.07 0-2.86zM5.41 20L4 18.59l7.72-7.72 1.47 1.35L5.41 20z\"/>\n",
              "  </svg>\n",
              "      </button>\n",
              "      \n",
              "  <style>\n",
              "    .colab-df-container {\n",
              "      display:flex;\n",
              "      flex-wrap:wrap;\n",
              "      gap: 12px;\n",
              "    }\n",
              "\n",
              "    .colab-df-convert {\n",
              "      background-color: #E8F0FE;\n",
              "      border: none;\n",
              "      border-radius: 50%;\n",
              "      cursor: pointer;\n",
              "      display: none;\n",
              "      fill: #1967D2;\n",
              "      height: 32px;\n",
              "      padding: 0 0 0 0;\n",
              "      width: 32px;\n",
              "    }\n",
              "\n",
              "    .colab-df-convert:hover {\n",
              "      background-color: #E2EBFA;\n",
              "      box-shadow: 0px 1px 2px rgba(60, 64, 67, 0.3), 0px 1px 3px 1px rgba(60, 64, 67, 0.15);\n",
              "      fill: #174EA6;\n",
              "    }\n",
              "\n",
              "    [theme=dark] .colab-df-convert {\n",
              "      background-color: #3B4455;\n",
              "      fill: #D2E3FC;\n",
              "    }\n",
              "\n",
              "    [theme=dark] .colab-df-convert:hover {\n",
              "      background-color: #434B5C;\n",
              "      box-shadow: 0px 1px 3px 1px rgba(0, 0, 0, 0.15);\n",
              "      filter: drop-shadow(0px 1px 2px rgba(0, 0, 0, 0.3));\n",
              "      fill: #FFFFFF;\n",
              "    }\n",
              "  </style>\n",
              "\n",
              "      <script>\n",
              "        const buttonEl =\n",
              "          document.querySelector('#df-64c79c7b-4e9d-4cba-ad2c-afe228e2fbc0 button.colab-df-convert');\n",
              "        buttonEl.style.display =\n",
              "          google.colab.kernel.accessAllowed ? 'block' : 'none';\n",
              "\n",
              "        async function convertToInteractive(key) {\n",
              "          const element = document.querySelector('#df-64c79c7b-4e9d-4cba-ad2c-afe228e2fbc0');\n",
              "          const dataTable =\n",
              "            await google.colab.kernel.invokeFunction('convertToInteractive',\n",
              "                                                     [key], {});\n",
              "          if (!dataTable) return;\n",
              "\n",
              "          const docLinkHtml = 'Like what you see? Visit the ' +\n",
              "            '<a target=\"_blank\" href=https://colab.research.google.com/notebooks/data_table.ipynb>data table notebook</a>'\n",
              "            + ' to learn more about interactive tables.';\n",
              "          element.innerHTML = '';\n",
              "          dataTable['output_type'] = 'display_data';\n",
              "          await google.colab.output.renderOutput(dataTable, element);\n",
              "          const docLink = document.createElement('div');\n",
              "          docLink.innerHTML = docLinkHtml;\n",
              "          element.appendChild(docLink);\n",
              "        }\n",
              "      </script>\n",
              "    </div>\n",
              "  </div>\n",
              "  "
            ]
          },
          "metadata": {},
          "execution_count": 5
        }
      ]
    },
    {
      "cell_type": "code",
      "source": [
        "df.drop(columns=['Unnamed: 0'],axis=1, inplace=True)"
      ],
      "metadata": {
        "id": "zHe72KbzaqHX"
      },
      "execution_count": null,
      "outputs": []
    },
    {
      "cell_type": "code",
      "source": [
        "df.info()"
      ],
      "metadata": {
        "colab": {
          "base_uri": "https://localhost:8080/"
        },
        "id": "VQFQcAfOedSJ",
        "outputId": "255c9732-cdda-424c-dfa5-3bd70e1b3c26"
      },
      "execution_count": null,
      "outputs": [
        {
          "output_type": "stream",
          "name": "stdout",
          "text": [
            "<class 'pandas.core.frame.DataFrame'>\n",
            "RangeIndex: 395219 entries, 0 to 395218\n",
            "Data columns (total 79 columns):\n",
            " #   Column                               Non-Null Count   Dtype  \n",
            "---  ------                               --------------   -----  \n",
            " 0   loan_amnt                            395219 non-null  float64\n",
            " 1   term                                 395219 non-null  int64  \n",
            " 2   int_rate                             395219 non-null  float64\n",
            " 3   installment                          395219 non-null  float64\n",
            " 4   annual_inc                           395219 non-null  float64\n",
            " 5   dti                                  395219 non-null  float64\n",
            " 6   open_acc                             395219 non-null  float64\n",
            " 7   pub_rec                              395219 non-null  float64\n",
            " 8   revol_bal                            395219 non-null  float64\n",
            " 9   revol_util                           395219 non-null  float64\n",
            " 10  total_acc                            395219 non-null  float64\n",
            " 11  mort_acc                             395219 non-null  float64\n",
            " 12  pub_rec_bankruptcies                 395219 non-null  float64\n",
            " 13  loan_repaid                          395219 non-null  int64  \n",
            " 14  sub_grade_A2                         395219 non-null  int64  \n",
            " 15  sub_grade_A3                         395219 non-null  int64  \n",
            " 16  sub_grade_A4                         395219 non-null  int64  \n",
            " 17  sub_grade_A5                         395219 non-null  int64  \n",
            " 18  sub_grade_B1                         395219 non-null  int64  \n",
            " 19  sub_grade_B2                         395219 non-null  int64  \n",
            " 20  sub_grade_B3                         395219 non-null  int64  \n",
            " 21  sub_grade_B4                         395219 non-null  int64  \n",
            " 22  sub_grade_B5                         395219 non-null  int64  \n",
            " 23  sub_grade_C1                         395219 non-null  int64  \n",
            " 24  sub_grade_C2                         395219 non-null  int64  \n",
            " 25  sub_grade_C3                         395219 non-null  int64  \n",
            " 26  sub_grade_C4                         395219 non-null  int64  \n",
            " 27  sub_grade_C5                         395219 non-null  int64  \n",
            " 28  sub_grade_D1                         395219 non-null  int64  \n",
            " 29  sub_grade_D2                         395219 non-null  int64  \n",
            " 30  sub_grade_D3                         395219 non-null  int64  \n",
            " 31  sub_grade_D4                         395219 non-null  int64  \n",
            " 32  sub_grade_D5                         395219 non-null  int64  \n",
            " 33  sub_grade_E1                         395219 non-null  int64  \n",
            " 34  sub_grade_E2                         395219 non-null  int64  \n",
            " 35  sub_grade_E3                         395219 non-null  int64  \n",
            " 36  sub_grade_E4                         395219 non-null  int64  \n",
            " 37  sub_grade_E5                         395219 non-null  int64  \n",
            " 38  sub_grade_F1                         395219 non-null  int64  \n",
            " 39  sub_grade_F2                         395219 non-null  int64  \n",
            " 40  sub_grade_F3                         395219 non-null  int64  \n",
            " 41  sub_grade_F4                         395219 non-null  int64  \n",
            " 42  sub_grade_F5                         395219 non-null  int64  \n",
            " 43  sub_grade_G1                         395219 non-null  int64  \n",
            " 44  sub_grade_G2                         395219 non-null  int64  \n",
            " 45  sub_grade_G3                         395219 non-null  int64  \n",
            " 46  sub_grade_G4                         395219 non-null  int64  \n",
            " 47  sub_grade_G5                         395219 non-null  int64  \n",
            " 48  verification_status_Source Verified  395219 non-null  int64  \n",
            " 49  verification_status_Verified         395219 non-null  int64  \n",
            " 50  application_type_INDIVIDUAL          395219 non-null  int64  \n",
            " 51  application_type_JOINT               395219 non-null  int64  \n",
            " 52  initial_list_status_w                395219 non-null  int64  \n",
            " 53  purpose_credit_card                  395219 non-null  int64  \n",
            " 54  purpose_debt_consolidation           395219 non-null  int64  \n",
            " 55  purpose_educational                  395219 non-null  int64  \n",
            " 56  purpose_home_improvement             395219 non-null  int64  \n",
            " 57  purpose_house                        395219 non-null  int64  \n",
            " 58  purpose_major_purchase               395219 non-null  int64  \n",
            " 59  purpose_medical                      395219 non-null  int64  \n",
            " 60  purpose_moving                       395219 non-null  int64  \n",
            " 61  purpose_other                        395219 non-null  int64  \n",
            " 62  purpose_renewable_energy             395219 non-null  int64  \n",
            " 63  purpose_small_business               395219 non-null  int64  \n",
            " 64  purpose_vacation                     395219 non-null  int64  \n",
            " 65  purpose_wedding                      395219 non-null  int64  \n",
            " 66  home_ownership_OTHER                 395219 non-null  int64  \n",
            " 67  home_ownership_OWN                   395219 non-null  int64  \n",
            " 68  home_ownership_RENT                  395219 non-null  int64  \n",
            " 69  zipcode_05113                        395219 non-null  int64  \n",
            " 70  zipcode_11650                        395219 non-null  int64  \n",
            " 71  zipcode_22690                        395219 non-null  int64  \n",
            " 72  zipcode_29597                        395219 non-null  int64  \n",
            " 73  zipcode_30723                        395219 non-null  int64  \n",
            " 74  zipcode_48052                        395219 non-null  int64  \n",
            " 75  zipcode_70466                        395219 non-null  int64  \n",
            " 76  zipcode_86630                        395219 non-null  int64  \n",
            " 77  zipcode_93700                        395219 non-null  int64  \n",
            " 78  earliest_cr_year                     395219 non-null  int64  \n",
            "dtypes: float64(12), int64(67)\n",
            "memory usage: 238.2 MB\n"
          ]
        }
      ]
    },
    {
      "cell_type": "code",
      "source": [
        "from sklearn.model_selection import train_test_split\n",
        "from sklearn.preprocessing import MinMaxScaler\n",
        "from sklearn.metrics import classification_report, confusion_matrix"
      ],
      "metadata": {
        "id": "t63O9vC1fpBM"
      },
      "execution_count": null,
      "outputs": []
    },
    {
      "cell_type": "code",
      "source": [
        "X = df.drop(columns=['loan_repaid'], axis=1)\n",
        "y = df['loan_repaid']"
      ],
      "metadata": {
        "id": "5vdWE1u_b__f"
      },
      "execution_count": null,
      "outputs": []
    },
    {
      "cell_type": "code",
      "source": [
        "X.head(3)"
      ],
      "metadata": {
        "colab": {
          "base_uri": "https://localhost:8080/",
          "height": 237
        },
        "id": "CmU-U7OWcy13",
        "outputId": "c4f4a2a4-40f0-4eae-fbb5-1bcb22d4b4da"
      },
      "execution_count": null,
      "outputs": [
        {
          "output_type": "execute_result",
          "data": {
            "text/plain": [
              "   loan_amnt  term  int_rate  installment  annual_inc    dti  open_acc  \\\n",
              "0    10000.0    36     11.44       329.48    117000.0  26.24      16.0   \n",
              "1     8000.0    36     11.99       265.68     65000.0  22.05      17.0   \n",
              "2    15600.0    36     10.49       506.97     43057.0  12.79      13.0   \n",
              "\n",
              "   pub_rec  revol_bal  revol_util  ...  zipcode_05113  zipcode_11650  \\\n",
              "0      0.0    36369.0        41.8  ...              0              0   \n",
              "1      0.0    20131.0        53.3  ...              1              0   \n",
              "2      0.0    11987.0        92.2  ...              1              0   \n",
              "\n",
              "   zipcode_22690  zipcode_29597  zipcode_30723  zipcode_48052  zipcode_70466  \\\n",
              "0              1              0              0              0              0   \n",
              "1              0              0              0              0              0   \n",
              "2              0              0              0              0              0   \n",
              "\n",
              "   zipcode_86630  zipcode_93700  earliest_cr_year  \n",
              "0              0              0              1990  \n",
              "1              0              0              2004  \n",
              "2              0              0              2007  \n",
              "\n",
              "[3 rows x 78 columns]"
            ],
            "text/html": [
              "\n",
              "  <div id=\"df-788d36e6-aa12-409b-877f-1b6c6532574c\">\n",
              "    <div class=\"colab-df-container\">\n",
              "      <div>\n",
              "<style scoped>\n",
              "    .dataframe tbody tr th:only-of-type {\n",
              "        vertical-align: middle;\n",
              "    }\n",
              "\n",
              "    .dataframe tbody tr th {\n",
              "        vertical-align: top;\n",
              "    }\n",
              "\n",
              "    .dataframe thead th {\n",
              "        text-align: right;\n",
              "    }\n",
              "</style>\n",
              "<table border=\"1\" class=\"dataframe\">\n",
              "  <thead>\n",
              "    <tr style=\"text-align: right;\">\n",
              "      <th></th>\n",
              "      <th>loan_amnt</th>\n",
              "      <th>term</th>\n",
              "      <th>int_rate</th>\n",
              "      <th>installment</th>\n",
              "      <th>annual_inc</th>\n",
              "      <th>dti</th>\n",
              "      <th>open_acc</th>\n",
              "      <th>pub_rec</th>\n",
              "      <th>revol_bal</th>\n",
              "      <th>revol_util</th>\n",
              "      <th>...</th>\n",
              "      <th>zipcode_05113</th>\n",
              "      <th>zipcode_11650</th>\n",
              "      <th>zipcode_22690</th>\n",
              "      <th>zipcode_29597</th>\n",
              "      <th>zipcode_30723</th>\n",
              "      <th>zipcode_48052</th>\n",
              "      <th>zipcode_70466</th>\n",
              "      <th>zipcode_86630</th>\n",
              "      <th>zipcode_93700</th>\n",
              "      <th>earliest_cr_year</th>\n",
              "    </tr>\n",
              "  </thead>\n",
              "  <tbody>\n",
              "    <tr>\n",
              "      <th>0</th>\n",
              "      <td>10000.0</td>\n",
              "      <td>36</td>\n",
              "      <td>11.44</td>\n",
              "      <td>329.48</td>\n",
              "      <td>117000.0</td>\n",
              "      <td>26.24</td>\n",
              "      <td>16.0</td>\n",
              "      <td>0.0</td>\n",
              "      <td>36369.0</td>\n",
              "      <td>41.8</td>\n",
              "      <td>...</td>\n",
              "      <td>0</td>\n",
              "      <td>0</td>\n",
              "      <td>1</td>\n",
              "      <td>0</td>\n",
              "      <td>0</td>\n",
              "      <td>0</td>\n",
              "      <td>0</td>\n",
              "      <td>0</td>\n",
              "      <td>0</td>\n",
              "      <td>1990</td>\n",
              "    </tr>\n",
              "    <tr>\n",
              "      <th>1</th>\n",
              "      <td>8000.0</td>\n",
              "      <td>36</td>\n",
              "      <td>11.99</td>\n",
              "      <td>265.68</td>\n",
              "      <td>65000.0</td>\n",
              "      <td>22.05</td>\n",
              "      <td>17.0</td>\n",
              "      <td>0.0</td>\n",
              "      <td>20131.0</td>\n",
              "      <td>53.3</td>\n",
              "      <td>...</td>\n",
              "      <td>1</td>\n",
              "      <td>0</td>\n",
              "      <td>0</td>\n",
              "      <td>0</td>\n",
              "      <td>0</td>\n",
              "      <td>0</td>\n",
              "      <td>0</td>\n",
              "      <td>0</td>\n",
              "      <td>0</td>\n",
              "      <td>2004</td>\n",
              "    </tr>\n",
              "    <tr>\n",
              "      <th>2</th>\n",
              "      <td>15600.0</td>\n",
              "      <td>36</td>\n",
              "      <td>10.49</td>\n",
              "      <td>506.97</td>\n",
              "      <td>43057.0</td>\n",
              "      <td>12.79</td>\n",
              "      <td>13.0</td>\n",
              "      <td>0.0</td>\n",
              "      <td>11987.0</td>\n",
              "      <td>92.2</td>\n",
              "      <td>...</td>\n",
              "      <td>1</td>\n",
              "      <td>0</td>\n",
              "      <td>0</td>\n",
              "      <td>0</td>\n",
              "      <td>0</td>\n",
              "      <td>0</td>\n",
              "      <td>0</td>\n",
              "      <td>0</td>\n",
              "      <td>0</td>\n",
              "      <td>2007</td>\n",
              "    </tr>\n",
              "  </tbody>\n",
              "</table>\n",
              "<p>3 rows × 78 columns</p>\n",
              "</div>\n",
              "      <button class=\"colab-df-convert\" onclick=\"convertToInteractive('df-788d36e6-aa12-409b-877f-1b6c6532574c')\"\n",
              "              title=\"Convert this dataframe to an interactive table.\"\n",
              "              style=\"display:none;\">\n",
              "        \n",
              "  <svg xmlns=\"http://www.w3.org/2000/svg\" height=\"24px\"viewBox=\"0 0 24 24\"\n",
              "       width=\"24px\">\n",
              "    <path d=\"M0 0h24v24H0V0z\" fill=\"none\"/>\n",
              "    <path d=\"M18.56 5.44l.94 2.06.94-2.06 2.06-.94-2.06-.94-.94-2.06-.94 2.06-2.06.94zm-11 1L8.5 8.5l.94-2.06 2.06-.94-2.06-.94L8.5 2.5l-.94 2.06-2.06.94zm10 10l.94 2.06.94-2.06 2.06-.94-2.06-.94-.94-2.06-.94 2.06-2.06.94z\"/><path d=\"M17.41 7.96l-1.37-1.37c-.4-.4-.92-.59-1.43-.59-.52 0-1.04.2-1.43.59L10.3 9.45l-7.72 7.72c-.78.78-.78 2.05 0 2.83L4 21.41c.39.39.9.59 1.41.59.51 0 1.02-.2 1.41-.59l7.78-7.78 2.81-2.81c.8-.78.8-2.07 0-2.86zM5.41 20L4 18.59l7.72-7.72 1.47 1.35L5.41 20z\"/>\n",
              "  </svg>\n",
              "      </button>\n",
              "      \n",
              "  <style>\n",
              "    .colab-df-container {\n",
              "      display:flex;\n",
              "      flex-wrap:wrap;\n",
              "      gap: 12px;\n",
              "    }\n",
              "\n",
              "    .colab-df-convert {\n",
              "      background-color: #E8F0FE;\n",
              "      border: none;\n",
              "      border-radius: 50%;\n",
              "      cursor: pointer;\n",
              "      display: none;\n",
              "      fill: #1967D2;\n",
              "      height: 32px;\n",
              "      padding: 0 0 0 0;\n",
              "      width: 32px;\n",
              "    }\n",
              "\n",
              "    .colab-df-convert:hover {\n",
              "      background-color: #E2EBFA;\n",
              "      box-shadow: 0px 1px 2px rgba(60, 64, 67, 0.3), 0px 1px 3px 1px rgba(60, 64, 67, 0.15);\n",
              "      fill: #174EA6;\n",
              "    }\n",
              "\n",
              "    [theme=dark] .colab-df-convert {\n",
              "      background-color: #3B4455;\n",
              "      fill: #D2E3FC;\n",
              "    }\n",
              "\n",
              "    [theme=dark] .colab-df-convert:hover {\n",
              "      background-color: #434B5C;\n",
              "      box-shadow: 0px 1px 3px 1px rgba(0, 0, 0, 0.15);\n",
              "      filter: drop-shadow(0px 1px 2px rgba(0, 0, 0, 0.3));\n",
              "      fill: #FFFFFF;\n",
              "    }\n",
              "  </style>\n",
              "\n",
              "      <script>\n",
              "        const buttonEl =\n",
              "          document.querySelector('#df-788d36e6-aa12-409b-877f-1b6c6532574c button.colab-df-convert');\n",
              "        buttonEl.style.display =\n",
              "          google.colab.kernel.accessAllowed ? 'block' : 'none';\n",
              "\n",
              "        async function convertToInteractive(key) {\n",
              "          const element = document.querySelector('#df-788d36e6-aa12-409b-877f-1b6c6532574c');\n",
              "          const dataTable =\n",
              "            await google.colab.kernel.invokeFunction('convertToInteractive',\n",
              "                                                     [key], {});\n",
              "          if (!dataTable) return;\n",
              "\n",
              "          const docLinkHtml = 'Like what you see? Visit the ' +\n",
              "            '<a target=\"_blank\" href=https://colab.research.google.com/notebooks/data_table.ipynb>data table notebook</a>'\n",
              "            + ' to learn more about interactive tables.';\n",
              "          element.innerHTML = '';\n",
              "          dataTable['output_type'] = 'display_data';\n",
              "          await google.colab.output.renderOutput(dataTable, element);\n",
              "          const docLink = document.createElement('div');\n",
              "          docLink.innerHTML = docLinkHtml;\n",
              "          element.appendChild(docLink);\n",
              "        }\n",
              "      </script>\n",
              "    </div>\n",
              "  </div>\n",
              "  "
            ]
          },
          "metadata": {},
          "execution_count": 12
        }
      ]
    },
    {
      "cell_type": "code",
      "source": [
        "y.head(3)"
      ],
      "metadata": {
        "colab": {
          "base_uri": "https://localhost:8080/"
        },
        "id": "IOtsVa8cc4m_",
        "outputId": "991616a9-356e-4619-89d9-0f08cfc9fbc4"
      },
      "execution_count": null,
      "outputs": [
        {
          "output_type": "execute_result",
          "data": {
            "text/plain": [
              "0    1\n",
              "1    1\n",
              "2    1\n",
              "Name: loan_repaid, dtype: int64"
            ]
          },
          "metadata": {},
          "execution_count": 13
        }
      ]
    },
    {
      "cell_type": "code",
      "source": [
        "X_train, X_test, y_train, y_test = train_test_split(X, y, test_size=0.3, random_state=42)"
      ],
      "metadata": {
        "id": "Wz4Nc8FpbxVL"
      },
      "execution_count": null,
      "outputs": []
    },
    {
      "cell_type": "code",
      "source": [
        "minmax = MinMaxScaler()"
      ],
      "metadata": {
        "id": "Y4wOH0EGbzts"
      },
      "execution_count": null,
      "outputs": []
    },
    {
      "cell_type": "code",
      "source": [
        "minmax.fit(X_train)"
      ],
      "metadata": {
        "colab": {
          "base_uri": "https://localhost:8080/"
        },
        "id": "es-X5zXCd8se",
        "outputId": "8ec08a9a-4fbc-484f-9281-009fa1e2e100"
      },
      "execution_count": null,
      "outputs": [
        {
          "output_type": "execute_result",
          "data": {
            "text/plain": [
              "MinMaxScaler()"
            ]
          },
          "metadata": {},
          "execution_count": 18
        }
      ]
    },
    {
      "cell_type": "markdown",
      "source": [
        "Scaling the features using MinMax"
      ],
      "metadata": {
        "id": "GkUHPlTBL5Ht"
      }
    },
    {
      "cell_type": "code",
      "source": [
        "Xtrain_scaled = minmax.transform(X_train)"
      ],
      "metadata": {
        "id": "8bfs-CxWeHZ5"
      },
      "execution_count": null,
      "outputs": []
    },
    {
      "cell_type": "code",
      "source": [
        "pd.DataFrame(Xtrain_scaled).head(3)"
      ],
      "metadata": {
        "colab": {
          "base_uri": "https://localhost:8080/",
          "height": 237
        },
        "id": "Cztfia6EecEe",
        "outputId": "53fbd79b-e2fc-40e4-a6a3-5bdc00dc185e"
      },
      "execution_count": null,
      "outputs": [
        {
          "output_type": "execute_result",
          "data": {
            "text/plain": [
              "         0    1         2         3         4         5         6    7   \\\n",
              "0  0.516232  1.0  0.400857  0.322779  0.004824  0.001854  0.192982  0.0   \n",
              "1  0.236155  0.0  0.414492  0.219961  0.004250  0.001181  0.192982  0.0   \n",
              "2  0.287078  1.0  0.488508  0.188398  0.005283  0.002961  0.157895  0.0   \n",
              "\n",
              "         8         9   ...   68   69   70   71   72   73   74   75   76  \\\n",
              "0  0.005219  0.044492  ...  0.0  0.0  0.0  0.0  0.0  1.0  0.0  0.0  0.0   \n",
              "1  0.003943  0.083380  ...  0.0  0.0  0.0  0.0  0.0  1.0  0.0  0.0  0.0   \n",
              "2  0.003063  0.040009  ...  0.0  0.0  0.0  0.0  1.0  0.0  0.0  0.0  0.0   \n",
              "\n",
              "         77  \n",
              "0  0.676923  \n",
              "1  0.800000  \n",
              "2  0.492308  \n",
              "\n",
              "[3 rows x 78 columns]"
            ],
            "text/html": [
              "\n",
              "  <div id=\"df-8f50b75c-c702-4b14-9a90-993b20f13d30\">\n",
              "    <div class=\"colab-df-container\">\n",
              "      <div>\n",
              "<style scoped>\n",
              "    .dataframe tbody tr th:only-of-type {\n",
              "        vertical-align: middle;\n",
              "    }\n",
              "\n",
              "    .dataframe tbody tr th {\n",
              "        vertical-align: top;\n",
              "    }\n",
              "\n",
              "    .dataframe thead th {\n",
              "        text-align: right;\n",
              "    }\n",
              "</style>\n",
              "<table border=\"1\" class=\"dataframe\">\n",
              "  <thead>\n",
              "    <tr style=\"text-align: right;\">\n",
              "      <th></th>\n",
              "      <th>0</th>\n",
              "      <th>1</th>\n",
              "      <th>2</th>\n",
              "      <th>3</th>\n",
              "      <th>4</th>\n",
              "      <th>5</th>\n",
              "      <th>6</th>\n",
              "      <th>7</th>\n",
              "      <th>8</th>\n",
              "      <th>9</th>\n",
              "      <th>...</th>\n",
              "      <th>68</th>\n",
              "      <th>69</th>\n",
              "      <th>70</th>\n",
              "      <th>71</th>\n",
              "      <th>72</th>\n",
              "      <th>73</th>\n",
              "      <th>74</th>\n",
              "      <th>75</th>\n",
              "      <th>76</th>\n",
              "      <th>77</th>\n",
              "    </tr>\n",
              "  </thead>\n",
              "  <tbody>\n",
              "    <tr>\n",
              "      <th>0</th>\n",
              "      <td>0.516232</td>\n",
              "      <td>1.0</td>\n",
              "      <td>0.400857</td>\n",
              "      <td>0.322779</td>\n",
              "      <td>0.004824</td>\n",
              "      <td>0.001854</td>\n",
              "      <td>0.192982</td>\n",
              "      <td>0.0</td>\n",
              "      <td>0.005219</td>\n",
              "      <td>0.044492</td>\n",
              "      <td>...</td>\n",
              "      <td>0.0</td>\n",
              "      <td>0.0</td>\n",
              "      <td>0.0</td>\n",
              "      <td>0.0</td>\n",
              "      <td>0.0</td>\n",
              "      <td>1.0</td>\n",
              "      <td>0.0</td>\n",
              "      <td>0.0</td>\n",
              "      <td>0.0</td>\n",
              "      <td>0.676923</td>\n",
              "    </tr>\n",
              "    <tr>\n",
              "      <th>1</th>\n",
              "      <td>0.236155</td>\n",
              "      <td>0.0</td>\n",
              "      <td>0.414492</td>\n",
              "      <td>0.219961</td>\n",
              "      <td>0.004250</td>\n",
              "      <td>0.001181</td>\n",
              "      <td>0.192982</td>\n",
              "      <td>0.0</td>\n",
              "      <td>0.003943</td>\n",
              "      <td>0.083380</td>\n",
              "      <td>...</td>\n",
              "      <td>0.0</td>\n",
              "      <td>0.0</td>\n",
              "      <td>0.0</td>\n",
              "      <td>0.0</td>\n",
              "      <td>0.0</td>\n",
              "      <td>1.0</td>\n",
              "      <td>0.0</td>\n",
              "      <td>0.0</td>\n",
              "      <td>0.0</td>\n",
              "      <td>0.800000</td>\n",
              "    </tr>\n",
              "    <tr>\n",
              "      <th>2</th>\n",
              "      <td>0.287078</td>\n",
              "      <td>1.0</td>\n",
              "      <td>0.488508</td>\n",
              "      <td>0.188398</td>\n",
              "      <td>0.005283</td>\n",
              "      <td>0.002961</td>\n",
              "      <td>0.157895</td>\n",
              "      <td>0.0</td>\n",
              "      <td>0.003063</td>\n",
              "      <td>0.040009</td>\n",
              "      <td>...</td>\n",
              "      <td>0.0</td>\n",
              "      <td>0.0</td>\n",
              "      <td>0.0</td>\n",
              "      <td>0.0</td>\n",
              "      <td>1.0</td>\n",
              "      <td>0.0</td>\n",
              "      <td>0.0</td>\n",
              "      <td>0.0</td>\n",
              "      <td>0.0</td>\n",
              "      <td>0.492308</td>\n",
              "    </tr>\n",
              "  </tbody>\n",
              "</table>\n",
              "<p>3 rows × 78 columns</p>\n",
              "</div>\n",
              "      <button class=\"colab-df-convert\" onclick=\"convertToInteractive('df-8f50b75c-c702-4b14-9a90-993b20f13d30')\"\n",
              "              title=\"Convert this dataframe to an interactive table.\"\n",
              "              style=\"display:none;\">\n",
              "        \n",
              "  <svg xmlns=\"http://www.w3.org/2000/svg\" height=\"24px\"viewBox=\"0 0 24 24\"\n",
              "       width=\"24px\">\n",
              "    <path d=\"M0 0h24v24H0V0z\" fill=\"none\"/>\n",
              "    <path d=\"M18.56 5.44l.94 2.06.94-2.06 2.06-.94-2.06-.94-.94-2.06-.94 2.06-2.06.94zm-11 1L8.5 8.5l.94-2.06 2.06-.94-2.06-.94L8.5 2.5l-.94 2.06-2.06.94zm10 10l.94 2.06.94-2.06 2.06-.94-2.06-.94-.94-2.06-.94 2.06-2.06.94z\"/><path d=\"M17.41 7.96l-1.37-1.37c-.4-.4-.92-.59-1.43-.59-.52 0-1.04.2-1.43.59L10.3 9.45l-7.72 7.72c-.78.78-.78 2.05 0 2.83L4 21.41c.39.39.9.59 1.41.59.51 0 1.02-.2 1.41-.59l7.78-7.78 2.81-2.81c.8-.78.8-2.07 0-2.86zM5.41 20L4 18.59l7.72-7.72 1.47 1.35L5.41 20z\"/>\n",
              "  </svg>\n",
              "      </button>\n",
              "      \n",
              "  <style>\n",
              "    .colab-df-container {\n",
              "      display:flex;\n",
              "      flex-wrap:wrap;\n",
              "      gap: 12px;\n",
              "    }\n",
              "\n",
              "    .colab-df-convert {\n",
              "      background-color: #E8F0FE;\n",
              "      border: none;\n",
              "      border-radius: 50%;\n",
              "      cursor: pointer;\n",
              "      display: none;\n",
              "      fill: #1967D2;\n",
              "      height: 32px;\n",
              "      padding: 0 0 0 0;\n",
              "      width: 32px;\n",
              "    }\n",
              "\n",
              "    .colab-df-convert:hover {\n",
              "      background-color: #E2EBFA;\n",
              "      box-shadow: 0px 1px 2px rgba(60, 64, 67, 0.3), 0px 1px 3px 1px rgba(60, 64, 67, 0.15);\n",
              "      fill: #174EA6;\n",
              "    }\n",
              "\n",
              "    [theme=dark] .colab-df-convert {\n",
              "      background-color: #3B4455;\n",
              "      fill: #D2E3FC;\n",
              "    }\n",
              "\n",
              "    [theme=dark] .colab-df-convert:hover {\n",
              "      background-color: #434B5C;\n",
              "      box-shadow: 0px 1px 3px 1px rgba(0, 0, 0, 0.15);\n",
              "      filter: drop-shadow(0px 1px 2px rgba(0, 0, 0, 0.3));\n",
              "      fill: #FFFFFF;\n",
              "    }\n",
              "  </style>\n",
              "\n",
              "      <script>\n",
              "        const buttonEl =\n",
              "          document.querySelector('#df-8f50b75c-c702-4b14-9a90-993b20f13d30 button.colab-df-convert');\n",
              "        buttonEl.style.display =\n",
              "          google.colab.kernel.accessAllowed ? 'block' : 'none';\n",
              "\n",
              "        async function convertToInteractive(key) {\n",
              "          const element = document.querySelector('#df-8f50b75c-c702-4b14-9a90-993b20f13d30');\n",
              "          const dataTable =\n",
              "            await google.colab.kernel.invokeFunction('convertToInteractive',\n",
              "                                                     [key], {});\n",
              "          if (!dataTable) return;\n",
              "\n",
              "          const docLinkHtml = 'Like what you see? Visit the ' +\n",
              "            '<a target=\"_blank\" href=https://colab.research.google.com/notebooks/data_table.ipynb>data table notebook</a>'\n",
              "            + ' to learn more about interactive tables.';\n",
              "          element.innerHTML = '';\n",
              "          dataTable['output_type'] = 'display_data';\n",
              "          await google.colab.output.renderOutput(dataTable, element);\n",
              "          const docLink = document.createElement('div');\n",
              "          docLink.innerHTML = docLinkHtml;\n",
              "          element.appendChild(docLink);\n",
              "        }\n",
              "      </script>\n",
              "    </div>\n",
              "  </div>\n",
              "  "
            ]
          },
          "metadata": {},
          "execution_count": 21
        }
      ]
    },
    {
      "cell_type": "code",
      "source": [
        "Xtest_scaled = minmax.transform(X_test)"
      ],
      "metadata": {
        "id": "JJzPZidaeewp"
      },
      "execution_count": null,
      "outputs": []
    },
    {
      "cell_type": "code",
      "source": [
        "print(Xtrain_scaled.shape)\n",
        "print(Xtest_scaled.shape)"
      ],
      "metadata": {
        "colab": {
          "base_uri": "https://localhost:8080/"
        },
        "id": "5sXQyWrLfFOF",
        "outputId": "fcc9abab-83e5-483a-ad85-548f79cd26db"
      },
      "execution_count": null,
      "outputs": [
        {
          "output_type": "stream",
          "name": "stdout",
          "text": [
            "(276653, 78)\n",
            "(118566, 78)\n"
          ]
        }
      ]
    },
    {
      "cell_type": "code",
      "source": [
        "type(Xtrain_scaled)"
      ],
      "metadata": {
        "colab": {
          "base_uri": "https://localhost:8080/"
        },
        "id": "XHum7r__ithZ",
        "outputId": "488a1c68-f921-444c-c2dc-451afc5d339c"
      },
      "execution_count": null,
      "outputs": [
        {
          "output_type": "execute_result",
          "data": {
            "text/plain": [
              "numpy.ndarray"
            ]
          },
          "metadata": {},
          "execution_count": 25
        }
      ]
    },
    {
      "cell_type": "code",
      "source": [
        "import tensorflow as tf"
      ],
      "metadata": {
        "id": "RcHW-wb6i0-b"
      },
      "execution_count": null,
      "outputs": []
    },
    {
      "cell_type": "code",
      "source": [
        "print(tf.__version__)"
      ],
      "metadata": {
        "colab": {
          "base_uri": "https://localhost:8080/"
        },
        "id": "AckSHHXXjMga",
        "outputId": "12b77aeb-dda4-4cf9-d384-6cd55713d8a3"
      },
      "execution_count": null,
      "outputs": [
        {
          "output_type": "stream",
          "name": "stdout",
          "text": [
            "2.8.2\n"
          ]
        }
      ]
    },
    {
      "cell_type": "code",
      "source": [
        "from tensorflow.keras.models import Sequential\n",
        "from tensorflow.keras.layers import Activation, Dense, Dropout"
      ],
      "metadata": {
        "id": "8Nl4AHBWjQdx"
      },
      "execution_count": null,
      "outputs": []
    },
    {
      "cell_type": "code",
      "source": [
        "from tensorflow.keras.callbacks import EarlyStopping"
      ],
      "metadata": {
        "id": "HdzYNz3ZlicV"
      },
      "execution_count": null,
      "outputs": []
    },
    {
      "cell_type": "markdown",
      "source": [
        "Building a dense 4 layer neural network model with loss function as binary-crossentropy & optimizer as adam function"
      ],
      "metadata": {
        "id": "lUtgLohIKJNF"
      }
    },
    {
      "cell_type": "code",
      "source": [
        "model = Sequential()\n",
        "\n",
        "model.add(Dense(units=78, activation='relu'))\n",
        "\n",
        "model.add(Dense(units=39, activation='relu'))\n",
        "\n",
        "model.add(Dense(units=19, activation='relu'))\n",
        "\n",
        "model.add(Dense(units=1, activation='sigmoid'))\n",
        "\n",
        "model.compile(loss='binary_crossentropy', optimizer='adam')"
      ],
      "metadata": {
        "id": "qlD3kCMCkjP7"
      },
      "execution_count": null,
      "outputs": []
    },
    {
      "cell_type": "markdown",
      "source": [
        "Applying early stopping to obtain the best parameters"
      ],
      "metadata": {
        "id": "FkttCUcjLsN4"
      }
    },
    {
      "cell_type": "code",
      "source": [
        "early_stop = EarlyStopping(monitor='val_loss', mode='min', verbose=1, patience=25)"
      ],
      "metadata": {
        "id": "lZSu5FWYnbSg"
      },
      "execution_count": null,
      "outputs": []
    },
    {
      "cell_type": "markdown",
      "source": [
        "Fitting the model to the scaled input parameters and the target "
      ],
      "metadata": {
        "id": "Cqw0hkHOMDbh"
      }
    },
    {
      "cell_type": "code",
      "source": [
        "model.fit(x=Xtrain_scaled,\n",
        "          y=y_train,\n",
        "          epochs=600,\n",
        "          validation_data=(Xtest_scaled,y_test), verbose=1,\n",
        "          callbacks=[early_stop]\n",
        "          )"
      ],
      "metadata": {
        "colab": {
          "base_uri": "https://localhost:8080/"
        },
        "id": "eIpdu-NBmvCW",
        "outputId": "73276aa0-591d-4102-907e-5a0d655d884b"
      },
      "execution_count": null,
      "outputs": [
        {
          "output_type": "stream",
          "name": "stdout",
          "text": [
            "Epoch 1/600\n",
            "8646/8646 [==============================] - 33s 4ms/step - loss: 0.2719 - val_loss: 0.2611\n",
            "Epoch 2/600\n",
            "8646/8646 [==============================] - 19s 2ms/step - loss: 0.2613 - val_loss: 0.2599\n",
            "Epoch 3/600\n",
            "8646/8646 [==============================] - 19s 2ms/step - loss: 0.2603 - val_loss: 0.2598\n",
            "Epoch 4/600\n",
            "8646/8646 [==============================] - 21s 2ms/step - loss: 0.2595 - val_loss: 0.2593\n",
            "Epoch 5/600\n",
            "8646/8646 [==============================] - 22s 3ms/step - loss: 0.2588 - val_loss: 0.2598\n",
            "Epoch 6/600\n",
            "8646/8646 [==============================] - 20s 2ms/step - loss: 0.2583 - val_loss: 0.2599\n",
            "Epoch 7/600\n",
            "8646/8646 [==============================] - 19s 2ms/step - loss: 0.2580 - val_loss: 0.2597\n",
            "Epoch 8/600\n",
            "8646/8646 [==============================] - 19s 2ms/step - loss: 0.2575 - val_loss: 0.2600\n",
            "Epoch 9/600\n",
            "8646/8646 [==============================] - 21s 2ms/step - loss: 0.2570 - val_loss: 0.2595\n",
            "Epoch 10/600\n",
            "8646/8646 [==============================] - 19s 2ms/step - loss: 0.2567 - val_loss: 0.2592\n",
            "Epoch 11/600\n",
            "8646/8646 [==============================] - 22s 3ms/step - loss: 0.2562 - val_loss: 0.2605\n",
            "Epoch 12/600\n",
            "8646/8646 [==============================] - 21s 2ms/step - loss: 0.2558 - val_loss: 0.2603\n",
            "Epoch 13/600\n",
            "8646/8646 [==============================] - 19s 2ms/step - loss: 0.2554 - val_loss: 0.2617\n",
            "Epoch 14/600\n",
            "8646/8646 [==============================] - 19s 2ms/step - loss: 0.2551 - val_loss: 0.2602\n",
            "Epoch 15/600\n",
            "8646/8646 [==============================] - 19s 2ms/step - loss: 0.2546 - val_loss: 0.2617\n",
            "Epoch 16/600\n",
            "8646/8646 [==============================] - 19s 2ms/step - loss: 0.2543 - val_loss: 0.2614\n",
            "Epoch 17/600\n",
            "8646/8646 [==============================] - 19s 2ms/step - loss: 0.2541 - val_loss: 0.2624\n",
            "Epoch 18/600\n",
            "8646/8646 [==============================] - 21s 2ms/step - loss: 0.2536 - val_loss: 0.2621\n",
            "Epoch 19/600\n",
            "8646/8646 [==============================] - 20s 2ms/step - loss: 0.2533 - val_loss: 0.2631\n",
            "Epoch 20/600\n",
            "8646/8646 [==============================] - 21s 2ms/step - loss: 0.2530 - val_loss: 0.2629\n",
            "Epoch 21/600\n",
            "8646/8646 [==============================] - 21s 2ms/step - loss: 0.2527 - val_loss: 0.2648\n",
            "Epoch 22/600\n",
            "8646/8646 [==============================] - 19s 2ms/step - loss: 0.2524 - val_loss: 0.2658\n",
            "Epoch 23/600\n",
            "8646/8646 [==============================] - 21s 2ms/step - loss: 0.2520 - val_loss: 0.2651\n",
            "Epoch 24/600\n",
            "8646/8646 [==============================] - 20s 2ms/step - loss: 0.2517 - val_loss: 0.2666\n",
            "Epoch 25/600\n",
            "8646/8646 [==============================] - 21s 2ms/step - loss: 0.2516 - val_loss: 0.2640\n",
            "Epoch 26/600\n",
            "8646/8646 [==============================] - 21s 2ms/step - loss: 0.2512 - val_loss: 0.2684\n",
            "Epoch 27/600\n",
            "8646/8646 [==============================] - 21s 2ms/step - loss: 0.2512 - val_loss: 0.2681\n",
            "Epoch 28/600\n",
            "8646/8646 [==============================] - 21s 2ms/step - loss: 0.2507 - val_loss: 0.2685\n",
            "Epoch 29/600\n",
            "8646/8646 [==============================] - 21s 2ms/step - loss: 0.2505 - val_loss: 0.2675\n",
            "Epoch 30/600\n",
            "8646/8646 [==============================] - 21s 2ms/step - loss: 0.2502 - val_loss: 0.2723\n",
            "Epoch 31/600\n",
            "8646/8646 [==============================] - 21s 2ms/step - loss: 0.2500 - val_loss: 0.2720\n",
            "Epoch 32/600\n",
            "8646/8646 [==============================] - 19s 2ms/step - loss: 0.2497 - val_loss: 0.2757\n",
            "Epoch 33/600\n",
            "8646/8646 [==============================] - 21s 2ms/step - loss: 0.2497 - val_loss: 0.2769\n",
            "Epoch 34/600\n",
            "8646/8646 [==============================] - 19s 2ms/step - loss: 0.2493 - val_loss: 0.2753\n",
            "Epoch 35/600\n",
            "8646/8646 [==============================] - 21s 2ms/step - loss: 0.2492 - val_loss: 0.2732\n",
            "Epoch 35: early stopping\n"
          ]
        },
        {
          "output_type": "execute_result",
          "data": {
            "text/plain": [
              "<keras.callbacks.History at 0x7f566510f610>"
            ]
          },
          "metadata": {},
          "execution_count": 35
        }
      ]
    },
    {
      "cell_type": "code",
      "source": [
        "model_loss = pd.DataFrame(model.history.history)\n",
        "model_loss.plot()"
      ],
      "metadata": {
        "colab": {
          "base_uri": "https://localhost:8080/",
          "height": 282
        },
        "id": "EG2GiaE2nwOX",
        "outputId": "a13372de-6c3d-4a83-f8ee-37827d2a91a7"
      },
      "execution_count": null,
      "outputs": [
        {
          "output_type": "execute_result",
          "data": {
            "text/plain": [
              "<matplotlib.axes._subplots.AxesSubplot at 0x7f56650a6d90>"
            ]
          },
          "metadata": {},
          "execution_count": 36
        },
        {
          "output_type": "display_data",
          "data": {
            "text/plain": [
              "<Figure size 432x288 with 1 Axes>"
            ],
            "image/png": "[encoded data removed]"
          },
          "metadata": {
            "needs_background": "light"
          }
        }
      ]
    },
    {
      "cell_type": "code",
      "source": [
        "predictions = model.predict(Xtest_scaled)\n",
        "classes_x=np.where(predictions > 0.5, 1,0)"
      ],
      "metadata": {
        "id": "zLj7slcDq2S1"
      },
      "execution_count": null,
      "outputs": []
    },
    {
      "cell_type": "markdown",
      "source": [
        "Checking the model prediciton"
      ],
      "metadata": {
        "id": "mo11Y7aVNGwR"
      }
    },
    {
      "cell_type": "code",
      "source": [
        "print(classification_report(y_test, classes_x))"
      ],
      "metadata": {
        "colab": {
          "base_uri": "https://localhost:8080/"
        },
        "id": "DhF0g5n0r0xn",
        "outputId": "95665ed8-a80b-4bf2-998d-68b9feeda082"
      },
      "execution_count": null,
      "outputs": [
        {
          "output_type": "stream",
          "name": "stdout",
          "text": [
            "              precision    recall  f1-score   support\n",
            "\n",
            "           0       0.95      0.45      0.61     23210\n",
            "           1       0.88      0.99      0.93     95356\n",
            "\n",
            "    accuracy                           0.89    118566\n",
            "   macro avg       0.92      0.72      0.77    118566\n",
            "weighted avg       0.90      0.89      0.87    118566\n",
            "\n"
          ]
        }
      ]
    },
    {
      "cell_type": "markdown",
      "source": [
        "The recall for one of the classes is lower as the classes are imbalanced in nature. The predictions can be improved by suitable sampling techniques"
      ],
      "metadata": {
        "id": "uqdfILaTSme3"
      }
    },
    {
      "cell_type": "code",
      "source": [
        "print(confusion_matrix(y_test, classes_x))"
      ],
      "metadata": {
        "id": "6pu1SL8tv3y1",
        "outputId": "37b7b9f1-5ef6-46a8-96ff-7f79b4998576",
        "colab": {
          "base_uri": "https://localhost:8080/"
        }
      },
      "execution_count": null,
      "outputs": [
        {
          "output_type": "stream",
          "name": "stdout",
          "text": [
            "[[10479 12731]\n",
            " [  549 94807]]\n"
          ]
        }
      ]
    },
    {
      "cell_type": "code",
      "source": [
        "classes_x"
      ],
      "metadata": {
        "colab": {
          "base_uri": "https://localhost:8080/"
        },
        "id": "qBeqDcqxsRo8",
        "outputId": "19940e27-b01c-4d7a-be75-3475f98f99c8"
      },
      "execution_count": null,
      "outputs": [
        {
          "output_type": "execute_result",
          "data": {
            "text/plain": [
              "array([[1],\n",
              "       [1],\n",
              "       [1],\n",
              "       ...,\n",
              "       [1],\n",
              "       [1],\n",
              "       [1]])"
            ]
          },
          "metadata": {},
          "execution_count": 48
        }
      ]
    },
    {
      "cell_type": "code",
      "source": [
        "predictions"
      ],
      "metadata": {
        "colab": {
          "base_uri": "https://localhost:8080/"
        },
        "id": "TCMY2xwasjAe",
        "outputId": "335f8dc8-6dcf-4622-8a1e-647b9d9dc1b9"
      },
      "execution_count": null,
      "outputs": [
        {
          "output_type": "execute_result",
          "data": {
            "text/plain": [
              "array([[0.7369574],\n",
              "       [0.5395375],\n",
              "       [0.566862 ],\n",
              "       ...,\n",
              "       [1.       ],\n",
              "       [1.       ],\n",
              "       [0.7948452]], dtype=float32)"
            ]
          },
          "metadata": {},
          "execution_count": 49
        }
      ]
    },
    {
      "cell_type": "code",
      "source": [],
      "metadata": {
        "id": "adIXqueTuv_F"
      },
      "execution_count": null,
      "outputs": []
    }
  ]
}