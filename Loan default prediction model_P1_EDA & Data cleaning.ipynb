{
 "cells": [
  {
   "cell_type": "markdown",
   "id": "ba29b612",
   "metadata": {},
   "source": [
    "# Loan default prediction model_P1_EDA & data cleaning"
   ]
  },
  {
   "cell_type": "code",
   "execution_count": 208,
   "id": "55a4c921",
   "metadata": {},
   "outputs": [],
   "source": [
    "import pandas as pd, numpy as np, seaborn as sns, matplotlib.pyplot as plt\n",
    "%matplotlib inline"
   ]
  },
  {
   "cell_type": "code",
   "execution_count": 209,
   "id": "d9c64403",
   "metadata": {},
   "outputs": [],
   "source": [
    "#ls"
   ]
  },
  {
   "cell_type": "markdown",
   "id": "a04edb9f",
   "metadata": {},
   "source": [
    "Importing raw data"
   ]
  },
  {
   "cell_type": "code",
   "execution_count": 210,
   "id": "efc4008a",
   "metadata": {},
   "outputs": [],
   "source": [
    "loan = pd.read_csv('lending_club_loan_two.csv')"
   ]
  },
  {
   "cell_type": "code",
   "execution_count": 211,
   "id": "4a5b929f",
   "metadata": {},
   "outputs": [
    {
     "data": {
      "text/html": [
       "<div>\n",
       "<style scoped>\n",
       "    .dataframe tbody tr th:only-of-type {\n",
       "        vertical-align: middle;\n",
       "    }\n",
       "\n",
       "    .dataframe tbody tr th {\n",
       "        vertical-align: top;\n",
       "    }\n",
       "\n",
       "    .dataframe thead th {\n",
       "        text-align: right;\n",
       "    }\n",
       "</style>\n",
       "<table border=\"1\" class=\"dataframe\">\n",
       "  <thead>\n",
       "    <tr style=\"text-align: right;\">\n",
       "      <th></th>\n",
       "      <th>loan_amnt</th>\n",
       "      <th>term</th>\n",
       "      <th>int_rate</th>\n",
       "      <th>installment</th>\n",
       "      <th>grade</th>\n",
       "      <th>sub_grade</th>\n",
       "      <th>emp_title</th>\n",
       "      <th>emp_length</th>\n",
       "      <th>home_ownership</th>\n",
       "      <th>annual_inc</th>\n",
       "      <th>...</th>\n",
       "      <th>open_acc</th>\n",
       "      <th>pub_rec</th>\n",
       "      <th>revol_bal</th>\n",
       "      <th>revol_util</th>\n",
       "      <th>total_acc</th>\n",
       "      <th>initial_list_status</th>\n",
       "      <th>application_type</th>\n",
       "      <th>mort_acc</th>\n",
       "      <th>pub_rec_bankruptcies</th>\n",
       "      <th>address</th>\n",
       "    </tr>\n",
       "  </thead>\n",
       "  <tbody>\n",
       "    <tr>\n",
       "      <th>0</th>\n",
       "      <td>10000.0</td>\n",
       "      <td>36 months</td>\n",
       "      <td>11.44</td>\n",
       "      <td>329.48</td>\n",
       "      <td>B</td>\n",
       "      <td>B4</td>\n",
       "      <td>Marketing</td>\n",
       "      <td>10+ years</td>\n",
       "      <td>RENT</td>\n",
       "      <td>117000.0</td>\n",
       "      <td>...</td>\n",
       "      <td>16.0</td>\n",
       "      <td>0.0</td>\n",
       "      <td>36369.0</td>\n",
       "      <td>41.8</td>\n",
       "      <td>25.0</td>\n",
       "      <td>w</td>\n",
       "      <td>INDIVIDUAL</td>\n",
       "      <td>0.0</td>\n",
       "      <td>0.0</td>\n",
       "      <td>0174 Michelle Gateway\\nMendozaberg, OK 22690</td>\n",
       "    </tr>\n",
       "    <tr>\n",
       "      <th>1</th>\n",
       "      <td>8000.0</td>\n",
       "      <td>36 months</td>\n",
       "      <td>11.99</td>\n",
       "      <td>265.68</td>\n",
       "      <td>B</td>\n",
       "      <td>B5</td>\n",
       "      <td>Credit analyst</td>\n",
       "      <td>4 years</td>\n",
       "      <td>MORTGAGE</td>\n",
       "      <td>65000.0</td>\n",
       "      <td>...</td>\n",
       "      <td>17.0</td>\n",
       "      <td>0.0</td>\n",
       "      <td>20131.0</td>\n",
       "      <td>53.3</td>\n",
       "      <td>27.0</td>\n",
       "      <td>f</td>\n",
       "      <td>INDIVIDUAL</td>\n",
       "      <td>3.0</td>\n",
       "      <td>0.0</td>\n",
       "      <td>1076 Carney Fort Apt. 347\\nLoganmouth, SD 05113</td>\n",
       "    </tr>\n",
       "    <tr>\n",
       "      <th>2</th>\n",
       "      <td>15600.0</td>\n",
       "      <td>36 months</td>\n",
       "      <td>10.49</td>\n",
       "      <td>506.97</td>\n",
       "      <td>B</td>\n",
       "      <td>B3</td>\n",
       "      <td>Statistician</td>\n",
       "      <td>&lt; 1 year</td>\n",
       "      <td>RENT</td>\n",
       "      <td>43057.0</td>\n",
       "      <td>...</td>\n",
       "      <td>13.0</td>\n",
       "      <td>0.0</td>\n",
       "      <td>11987.0</td>\n",
       "      <td>92.2</td>\n",
       "      <td>26.0</td>\n",
       "      <td>f</td>\n",
       "      <td>INDIVIDUAL</td>\n",
       "      <td>0.0</td>\n",
       "      <td>0.0</td>\n",
       "      <td>87025 Mark Dale Apt. 269\\nNew Sabrina, WV 05113</td>\n",
       "    </tr>\n",
       "  </tbody>\n",
       "</table>\n",
       "<p>3 rows × 27 columns</p>\n",
       "</div>"
      ],
      "text/plain": [
       "   loan_amnt        term  int_rate  installment grade sub_grade  \\\n",
       "0    10000.0   36 months     11.44       329.48     B        B4   \n",
       "1     8000.0   36 months     11.99       265.68     B        B5   \n",
       "2    15600.0   36 months     10.49       506.97     B        B3   \n",
       "\n",
       "         emp_title emp_length home_ownership  annual_inc  ... open_acc  \\\n",
       "0        Marketing  10+ years           RENT    117000.0  ...     16.0   \n",
       "1  Credit analyst     4 years       MORTGAGE     65000.0  ...     17.0   \n",
       "2     Statistician   < 1 year           RENT     43057.0  ...     13.0   \n",
       "\n",
       "  pub_rec revol_bal revol_util total_acc  initial_list_status  \\\n",
       "0     0.0   36369.0       41.8      25.0                    w   \n",
       "1     0.0   20131.0       53.3      27.0                    f   \n",
       "2     0.0   11987.0       92.2      26.0                    f   \n",
       "\n",
       "  application_type  mort_acc  pub_rec_bankruptcies  \\\n",
       "0       INDIVIDUAL       0.0                   0.0   \n",
       "1       INDIVIDUAL       3.0                   0.0   \n",
       "2       INDIVIDUAL       0.0                   0.0   \n",
       "\n",
       "                                           address  \n",
       "0     0174 Michelle Gateway\\nMendozaberg, OK 22690  \n",
       "1  1076 Carney Fort Apt. 347\\nLoganmouth, SD 05113  \n",
       "2  87025 Mark Dale Apt. 269\\nNew Sabrina, WV 05113  \n",
       "\n",
       "[3 rows x 27 columns]"
      ]
     },
     "execution_count": 211,
     "metadata": {},
     "output_type": "execute_result"
    }
   ],
   "source": [
    "loan.head(3)"
   ]
  },
  {
   "cell_type": "code",
   "execution_count": 212,
   "id": "7729cd3b",
   "metadata": {
    "scrolled": false
   },
   "outputs": [
    {
     "name": "stdout",
     "output_type": "stream",
     "text": [
      "<class 'pandas.core.frame.DataFrame'>\n",
      "RangeIndex: 396030 entries, 0 to 396029\n",
      "Data columns (total 27 columns):\n",
      " #   Column                Non-Null Count   Dtype  \n",
      "---  ------                --------------   -----  \n",
      " 0   loan_amnt             396030 non-null  float64\n",
      " 1   term                  396030 non-null  object \n",
      " 2   int_rate              396030 non-null  float64\n",
      " 3   installment           396030 non-null  float64\n",
      " 4   grade                 396030 non-null  object \n",
      " 5   sub_grade             396030 non-null  object \n",
      " 6   emp_title             373103 non-null  object \n",
      " 7   emp_length            377729 non-null  object \n",
      " 8   home_ownership        396030 non-null  object \n",
      " 9   annual_inc            396030 non-null  float64\n",
      " 10  verification_status   396030 non-null  object \n",
      " 11  issue_d               396030 non-null  object \n",
      " 12  loan_status           396030 non-null  object \n",
      " 13  purpose               396030 non-null  object \n",
      " 14  title                 394275 non-null  object \n",
      " 15  dti                   396030 non-null  float64\n",
      " 16  earliest_cr_line      396030 non-null  object \n",
      " 17  open_acc              396030 non-null  float64\n",
      " 18  pub_rec               396030 non-null  float64\n",
      " 19  revol_bal             396030 non-null  float64\n",
      " 20  revol_util            395754 non-null  float64\n",
      " 21  total_acc             396030 non-null  float64\n",
      " 22  initial_list_status   396030 non-null  object \n",
      " 23  application_type      396030 non-null  object \n",
      " 24  mort_acc              358235 non-null  float64\n",
      " 25  pub_rec_bankruptcies  395495 non-null  float64\n",
      " 26  address               396030 non-null  object \n",
      "dtypes: float64(12), object(15)\n",
      "memory usage: 81.6+ MB\n"
     ]
    }
   ],
   "source": [
    "loan.info()"
   ]
  },
  {
   "cell_type": "markdown",
   "id": "81f94405",
   "metadata": {},
   "source": [
    "Checking for null values"
   ]
  },
  {
   "cell_type": "code",
   "execution_count": 213,
   "id": "5db6738c",
   "metadata": {},
   "outputs": [
    {
     "data": {
      "text/plain": [
       "loan_amnt                   0\n",
       "term                        0\n",
       "int_rate                    0\n",
       "installment                 0\n",
       "grade                       0\n",
       "sub_grade                   0\n",
       "emp_title               22927\n",
       "emp_length              18301\n",
       "home_ownership              0\n",
       "annual_inc                  0\n",
       "verification_status         0\n",
       "issue_d                     0\n",
       "loan_status                 0\n",
       "purpose                     0\n",
       "title                    1755\n",
       "dti                         0\n",
       "earliest_cr_line            0\n",
       "open_acc                    0\n",
       "pub_rec                     0\n",
       "revol_bal                   0\n",
       "revol_util                276\n",
       "total_acc                   0\n",
       "initial_list_status         0\n",
       "application_type            0\n",
       "mort_acc                37795\n",
       "pub_rec_bankruptcies      535\n",
       "address                     0\n",
       "dtype: int64"
      ]
     },
     "execution_count": 213,
     "metadata": {},
     "output_type": "execute_result"
    }
   ],
   "source": [
    "loan.isnull().sum()"
   ]
  },
  {
   "cell_type": "code",
   "execution_count": 214,
   "id": "4869ebdf",
   "metadata": {},
   "outputs": [
    {
     "data": {
      "text/plain": [
       "array(['Fully Paid', 'Charged Off'], dtype=object)"
      ]
     },
     "execution_count": 214,
     "metadata": {},
     "output_type": "execute_result"
    }
   ],
   "source": [
    "loan['loan_status'].unique()"
   ]
  },
  {
   "cell_type": "markdown",
   "id": "ee5f100f",
   "metadata": {},
   "source": [
    "Checking the target variable count - Imbalanced"
   ]
  },
  {
   "cell_type": "code",
   "execution_count": 215,
   "id": "0b41256b",
   "metadata": {},
   "outputs": [
    {
     "data": {
      "text/plain": [
       "<AxesSubplot:xlabel='loan_status', ylabel='count'>"
      ]
     },
     "execution_count": 215,
     "metadata": {},
     "output_type": "execute_result"
    },
    {
     "data": {
      "image/png": "[encoded data removed]",
      "text/plain": [
       "<Figure size 432x288 with 1 Axes>"
      ]
     },
     "metadata": {},
     "output_type": "display_data"
    }
   ],
   "source": [
    "sns.set_style('whitegrid')\n",
    "sns.countplot(x='loan_status', data=loan)   "
   ]
  },
  {
   "cell_type": "code",
   "execution_count": 216,
   "id": "2204ef21",
   "metadata": {
    "scrolled": true
   },
   "outputs": [
    {
     "data": {
      "text/plain": [
       "<AxesSubplot:xlabel='loan_amnt', ylabel='Count'>"
      ]
     },
     "execution_count": 216,
     "metadata": {},
     "output_type": "execute_result"
    },
    {
     "data": {
      "image/png": "[encoded data removed]",
      "text/plain": [
       "<Figure size 432x288 with 1 Axes>"
      ]
     },
     "metadata": {},
     "output_type": "display_data"
    }
   ],
   "source": [
    "sns.histplot(loan['loan_amnt'], bins=70)"
   ]
  },
  {
   "cell_type": "markdown",
   "id": "834145fc",
   "metadata": {},
   "source": [
    "Finding correlation of target with predictors"
   ]
  },
  {
   "cell_type": "code",
   "execution_count": 217,
   "id": "e1343008",
   "metadata": {},
   "outputs": [
    {
     "data": {
      "text/plain": [
       "<AxesSubplot:>"
      ]
     },
     "execution_count": 217,
     "metadata": {},
     "output_type": "execute_result"
    },
    {
     "data": {
      "image/png": "[encoded data removed]",
      "text/plain": [
       "<Figure size 864x576 with 2 Axes>"
      ]
     },
     "metadata": {},
     "output_type": "display_data"
    }
   ],
   "source": [
    "plt.figure(figsize=(12,8))\n",
    "sns.heatmap(loan.corr(), annot=True)"
   ]
  },
  {
   "cell_type": "code",
   "execution_count": 218,
   "id": "a436bf52",
   "metadata": {},
   "outputs": [
    {
     "data": {
      "text/plain": [
       "<AxesSubplot:xlabel='installment', ylabel='loan_amnt'>"
      ]
     },
     "execution_count": 218,
     "metadata": {},
     "output_type": "execute_result"
    },
    {
     "data": {
      "image/png": "[encoded data removed]",
      "text/plain": [
       "<Figure size 432x288 with 1 Axes>"
      ]
     },
     "metadata": {},
     "output_type": "display_data"
    }
   ],
   "source": [
    "sns.scatterplot(x='installment',y='loan_amnt',data=loan)"
   ]
  },
  {
   "cell_type": "code",
   "execution_count": 219,
   "id": "197f5a72",
   "metadata": {},
   "outputs": [
    {
     "data": {
      "text/plain": [
       "<AxesSubplot:xlabel='loan_status', ylabel='loan_amnt'>"
      ]
     },
     "execution_count": 219,
     "metadata": {},
     "output_type": "execute_result"
    },
    {
     "data": {
      "image/png": "[encoded data removed]",
      "text/plain": [
       "<Figure size 432x288 with 1 Axes>"
      ]
     },
     "metadata": {},
     "output_type": "display_data"
    }
   ],
   "source": [
    "sns.boxplot(x='loan_status',y='loan_amnt',data=loan)"
   ]
  },
  {
   "cell_type": "markdown",
   "id": "730dd27a",
   "metadata": {},
   "source": [
    "The charged-off principle average seems to be higher than fully-paid"
   ]
  },
  {
   "cell_type": "code",
   "execution_count": 220,
   "id": "7dd6ce48",
   "metadata": {},
   "outputs": [
    {
     "data": {
      "text/html": [
       "<div>\n",
       "<style scoped>\n",
       "    .dataframe tbody tr th:only-of-type {\n",
       "        vertical-align: middle;\n",
       "    }\n",
       "\n",
       "    .dataframe tbody tr th {\n",
       "        vertical-align: top;\n",
       "    }\n",
       "\n",
       "    .dataframe thead th {\n",
       "        text-align: right;\n",
       "    }\n",
       "</style>\n",
       "<table border=\"1\" class=\"dataframe\">\n",
       "  <thead>\n",
       "    <tr style=\"text-align: right;\">\n",
       "      <th></th>\n",
       "      <th>count</th>\n",
       "      <th>mean</th>\n",
       "      <th>std</th>\n",
       "      <th>min</th>\n",
       "      <th>25%</th>\n",
       "      <th>50%</th>\n",
       "      <th>75%</th>\n",
       "      <th>max</th>\n",
       "    </tr>\n",
       "    <tr>\n",
       "      <th>loan_status</th>\n",
       "      <th></th>\n",
       "      <th></th>\n",
       "      <th></th>\n",
       "      <th></th>\n",
       "      <th></th>\n",
       "      <th></th>\n",
       "      <th></th>\n",
       "      <th></th>\n",
       "    </tr>\n",
       "  </thead>\n",
       "  <tbody>\n",
       "    <tr>\n",
       "      <th>Charged Off</th>\n",
       "      <td>77673.0</td>\n",
       "      <td>15126.300967</td>\n",
       "      <td>8505.090557</td>\n",
       "      <td>1000.0</td>\n",
       "      <td>8525.0</td>\n",
       "      <td>14000.0</td>\n",
       "      <td>20000.0</td>\n",
       "      <td>40000.0</td>\n",
       "    </tr>\n",
       "    <tr>\n",
       "      <th>Fully Paid</th>\n",
       "      <td>318357.0</td>\n",
       "      <td>13866.878771</td>\n",
       "      <td>8302.319699</td>\n",
       "      <td>500.0</td>\n",
       "      <td>7500.0</td>\n",
       "      <td>12000.0</td>\n",
       "      <td>19225.0</td>\n",
       "      <td>40000.0</td>\n",
       "    </tr>\n",
       "  </tbody>\n",
       "</table>\n",
       "</div>"
      ],
      "text/plain": [
       "                count          mean          std     min     25%      50%  \\\n",
       "loan_status                                                                 \n",
       "Charged Off   77673.0  15126.300967  8505.090557  1000.0  8525.0  14000.0   \n",
       "Fully Paid   318357.0  13866.878771  8302.319699   500.0  7500.0  12000.0   \n",
       "\n",
       "                 75%      max  \n",
       "loan_status                    \n",
       "Charged Off  20000.0  40000.0  \n",
       "Fully Paid   19225.0  40000.0  "
      ]
     },
     "execution_count": 220,
     "metadata": {},
     "output_type": "execute_result"
    }
   ],
   "source": [
    "loan.groupby('loan_status')['loan_amnt'].describe()"
   ]
  },
  {
   "cell_type": "code",
   "execution_count": 221,
   "id": "7c94b91a",
   "metadata": {},
   "outputs": [
    {
     "data": {
      "text/plain": [
       "array(['B', 'A', 'C', 'E', 'D', 'F', 'G'], dtype=object)"
      ]
     },
     "execution_count": 221,
     "metadata": {},
     "output_type": "execute_result"
    }
   ],
   "source": [
    "loan['grade'].unique()"
   ]
  },
  {
   "cell_type": "code",
   "execution_count": 222,
   "id": "530f37fd",
   "metadata": {},
   "outputs": [
    {
     "data": {
      "text/plain": [
       "array(['A1', 'A2', 'A3', 'A4', 'A5', 'B1', 'B2', 'B3', 'B4', 'B5', 'C1',\n",
       "       'C2', 'C3', 'C4', 'C5', 'D1', 'D2', 'D3', 'D4', 'D5', 'E1', 'E2',\n",
       "       'E3', 'E4', 'E5', 'F1', 'F2', 'F3', 'F4', 'F5', 'G1', 'G2', 'G3',\n",
       "       'G4', 'G5'], dtype=object)"
      ]
     },
     "execution_count": 222,
     "metadata": {},
     "output_type": "execute_result"
    }
   ],
   "source": [
    "np.sort(loan['sub_grade'].unique())"
   ]
  },
  {
   "cell_type": "code",
   "execution_count": 223,
   "id": "a8ee3eb0",
   "metadata": {
    "scrolled": true
   },
   "outputs": [
    {
     "data": {
      "text/plain": [
       "<AxesSubplot:xlabel='grade', ylabel='count'>"
      ]
     },
     "execution_count": 223,
     "metadata": {},
     "output_type": "execute_result"
    },
    {
     "data": {
      "image/png": "[encoded data removed]",
      "text/plain": [
       "<Figure size 432x288 with 1 Axes>"
      ]
     },
     "metadata": {},
     "output_type": "display_data"
    }
   ],
   "source": [
    "sns.countplot(x='grade',data=loan,hue='loan_status')"
   ]
  },
  {
   "cell_type": "markdown",
   "id": "2cb86231",
   "metadata": {},
   "source": [
    "The F & G grade seems to have too higher default rate"
   ]
  },
  {
   "cell_type": "code",
   "execution_count": 224,
   "id": "4f846aef",
   "metadata": {},
   "outputs": [
    {
     "data": {
      "text/plain": [
       "<AxesSubplot:xlabel='sub_grade', ylabel='count'>"
      ]
     },
     "execution_count": 224,
     "metadata": {},
     "output_type": "execute_result"
    },
    {
     "data": {
      "image/png": "[encoded data removed]",
      "text/plain": [
       "<Figure size 864x432 with 1 Axes>"
      ]
     },
     "metadata": {},
     "output_type": "display_data"
    }
   ],
   "source": [
    "plt.figure(figsize=(12,6))\n",
    "sns.countplot(x='sub_grade',data=loan, order=np.sort(loan['sub_grade'].unique()))"
   ]
  },
  {
   "cell_type": "code",
   "execution_count": 225,
   "id": "c970780e",
   "metadata": {},
   "outputs": [
    {
     "data": {
      "text/plain": [
       "<AxesSubplot:xlabel='sub_grade', ylabel='count'>"
      ]
     },
     "execution_count": 225,
     "metadata": {},
     "output_type": "execute_result"
    },
    {
     "data": {
      "image/png": "[encoded data removed]",
      "text/plain": [
       "<Figure size 864x432 with 1 Axes>"
      ]
     },
     "metadata": {},
     "output_type": "display_data"
    }
   ],
   "source": [
    "plt.figure(figsize=(12,6))\n",
    "sns.countplot(x='sub_grade',data=loan, order=np.sort(loan['sub_grade'].unique()), hue='loan_status')"
   ]
  },
  {
   "cell_type": "markdown",
   "id": "9cf5f1ed",
   "metadata": {},
   "source": [
    "Deep dive into the groups having high percentage of defaulters"
   ]
  },
  {
   "cell_type": "code",
   "execution_count": 226,
   "id": "39898278",
   "metadata": {},
   "outputs": [
    {
     "data": {
      "text/html": [
       "<div>\n",
       "<style scoped>\n",
       "    .dataframe tbody tr th:only-of-type {\n",
       "        vertical-align: middle;\n",
       "    }\n",
       "\n",
       "    .dataframe tbody tr th {\n",
       "        vertical-align: top;\n",
       "    }\n",
       "\n",
       "    .dataframe thead th {\n",
       "        text-align: right;\n",
       "    }\n",
       "</style>\n",
       "<table border=\"1\" class=\"dataframe\">\n",
       "  <thead>\n",
       "    <tr style=\"text-align: right;\">\n",
       "      <th></th>\n",
       "      <th>loan_amnt</th>\n",
       "      <th>term</th>\n",
       "      <th>int_rate</th>\n",
       "      <th>installment</th>\n",
       "      <th>grade</th>\n",
       "      <th>sub_grade</th>\n",
       "      <th>emp_title</th>\n",
       "      <th>emp_length</th>\n",
       "      <th>home_ownership</th>\n",
       "      <th>annual_inc</th>\n",
       "      <th>...</th>\n",
       "      <th>open_acc</th>\n",
       "      <th>pub_rec</th>\n",
       "      <th>revol_bal</th>\n",
       "      <th>revol_util</th>\n",
       "      <th>total_acc</th>\n",
       "      <th>initial_list_status</th>\n",
       "      <th>application_type</th>\n",
       "      <th>mort_acc</th>\n",
       "      <th>pub_rec_bankruptcies</th>\n",
       "      <th>address</th>\n",
       "    </tr>\n",
       "  </thead>\n",
       "  <tbody>\n",
       "    <tr>\n",
       "      <th>66</th>\n",
       "      <td>15975.0</td>\n",
       "      <td>60 months</td>\n",
       "      <td>24.99</td>\n",
       "      <td>468.80</td>\n",
       "      <td>F</td>\n",
       "      <td>F4</td>\n",
       "      <td>carrier</td>\n",
       "      <td>5 years</td>\n",
       "      <td>MORTGAGE</td>\n",
       "      <td>47000.0</td>\n",
       "      <td>...</td>\n",
       "      <td>10.0</td>\n",
       "      <td>0.0</td>\n",
       "      <td>2049.0</td>\n",
       "      <td>58.5</td>\n",
       "      <td>23.0</td>\n",
       "      <td>w</td>\n",
       "      <td>INDIVIDUAL</td>\n",
       "      <td>1.0</td>\n",
       "      <td>0.0</td>\n",
       "      <td>59681 Christopher Lock\\nNorth Williamtown, UT ...</td>\n",
       "    </tr>\n",
       "    <tr>\n",
       "      <th>87</th>\n",
       "      <td>30000.0</td>\n",
       "      <td>60 months</td>\n",
       "      <td>24.70</td>\n",
       "      <td>875.28</td>\n",
       "      <td>G</td>\n",
       "      <td>G1</td>\n",
       "      <td>Medtronic</td>\n",
       "      <td>5 years</td>\n",
       "      <td>MORTGAGE</td>\n",
       "      <td>187321.0</td>\n",
       "      <td>...</td>\n",
       "      <td>21.0</td>\n",
       "      <td>0.0</td>\n",
       "      <td>54810.0</td>\n",
       "      <td>93.4</td>\n",
       "      <td>52.0</td>\n",
       "      <td>f</td>\n",
       "      <td>INDIVIDUAL</td>\n",
       "      <td>3.0</td>\n",
       "      <td>0.0</td>\n",
       "      <td>25281 Kevin Neck\\nArmstrongton, TN 29597</td>\n",
       "    </tr>\n",
       "    <tr>\n",
       "      <th>96</th>\n",
       "      <td>12625.0</td>\n",
       "      <td>60 months</td>\n",
       "      <td>25.78</td>\n",
       "      <td>376.36</td>\n",
       "      <td>F</td>\n",
       "      <td>F5</td>\n",
       "      <td>Nursing Assistant</td>\n",
       "      <td>7 years</td>\n",
       "      <td>MORTGAGE</td>\n",
       "      <td>43000.0</td>\n",
       "      <td>...</td>\n",
       "      <td>18.0</td>\n",
       "      <td>0.0</td>\n",
       "      <td>19993.0</td>\n",
       "      <td>55.7</td>\n",
       "      <td>31.0</td>\n",
       "      <td>w</td>\n",
       "      <td>INDIVIDUAL</td>\n",
       "      <td>1.0</td>\n",
       "      <td>0.0</td>\n",
       "      <td>522 Melissa Village\\nEast Janice, MT 00813</td>\n",
       "    </tr>\n",
       "  </tbody>\n",
       "</table>\n",
       "<p>3 rows × 27 columns</p>\n",
       "</div>"
      ],
      "text/plain": [
       "    loan_amnt        term  int_rate  installment grade sub_grade  \\\n",
       "66    15975.0   60 months     24.99       468.80     F        F4   \n",
       "87    30000.0   60 months     24.70       875.28     G        G1   \n",
       "96    12625.0   60 months     25.78       376.36     F        F5   \n",
       "\n",
       "            emp_title emp_length home_ownership  annual_inc  ... open_acc  \\\n",
       "66            carrier    5 years       MORTGAGE     47000.0  ...     10.0   \n",
       "87          Medtronic    5 years       MORTGAGE    187321.0  ...     21.0   \n",
       "96  Nursing Assistant    7 years       MORTGAGE     43000.0  ...     18.0   \n",
       "\n",
       "   pub_rec revol_bal revol_util total_acc  initial_list_status  \\\n",
       "66     0.0    2049.0       58.5      23.0                    w   \n",
       "87     0.0   54810.0       93.4      52.0                    f   \n",
       "96     0.0   19993.0       55.7      31.0                    w   \n",
       "\n",
       "   application_type  mort_acc  pub_rec_bankruptcies  \\\n",
       "66       INDIVIDUAL       1.0                   0.0   \n",
       "87       INDIVIDUAL       3.0                   0.0   \n",
       "96       INDIVIDUAL       1.0                   0.0   \n",
       "\n",
       "                                              address  \n",
       "66  59681 Christopher Lock\\nNorth Williamtown, UT ...  \n",
       "87           25281 Kevin Neck\\nArmstrongton, TN 29597  \n",
       "96         522 Melissa Village\\nEast Janice, MT 00813  \n",
       "\n",
       "[3 rows x 27 columns]"
      ]
     },
     "execution_count": 226,
     "metadata": {},
     "output_type": "execute_result"
    }
   ],
   "source": [
    "f_and_g = loan[(loan['grade']=='F') | (loan['grade']=='G')]\n",
    "f_and_g.head(3)"
   ]
  },
  {
   "cell_type": "code",
   "execution_count": 227,
   "id": "95d0e90d",
   "metadata": {
    "scrolled": true
   },
   "outputs": [
    {
     "data": {
      "text/plain": [
       "<AxesSubplot:xlabel='sub_grade', ylabel='count'>"
      ]
     },
     "execution_count": 227,
     "metadata": {},
     "output_type": "execute_result"
    },
    {
     "data": {
      "image/png": "[encoded data removed]",
      "text/plain": [
       "<Figure size 864x432 with 1 Axes>"
      ]
     },
     "metadata": {},
     "output_type": "display_data"
    }
   ],
   "source": [
    "plt.figure(figsize=(12,6))\n",
    "sns.countplot(x='sub_grade',data=f_and_g, order= np.sort(f_and_g['sub_grade'].unique()),hue='loan_status')"
   ]
  },
  {
   "cell_type": "markdown",
   "id": "28748689",
   "metadata": {},
   "source": [
    "Mapping the target variable class to numbers for easy handling"
   ]
  },
  {
   "cell_type": "code",
   "execution_count": 228,
   "id": "409706a5",
   "metadata": {},
   "outputs": [],
   "source": [
    "loan['loan_repaid'] = loan['loan_status'].map({'Fully Paid': 1, 'Charged Off': 0})"
   ]
  },
  {
   "cell_type": "code",
   "execution_count": 229,
   "id": "f55922fd",
   "metadata": {
    "scrolled": true
   },
   "outputs": [
    {
     "data": {
      "text/html": [
       "<div>\n",
       "<style scoped>\n",
       "    .dataframe tbody tr th:only-of-type {\n",
       "        vertical-align: middle;\n",
       "    }\n",
       "\n",
       "    .dataframe tbody tr th {\n",
       "        vertical-align: top;\n",
       "    }\n",
       "\n",
       "    .dataframe thead th {\n",
       "        text-align: right;\n",
       "    }\n",
       "</style>\n",
       "<table border=\"1\" class=\"dataframe\">\n",
       "  <thead>\n",
       "    <tr style=\"text-align: right;\">\n",
       "      <th></th>\n",
       "      <th>loan_repaid</th>\n",
       "      <th>loan_status</th>\n",
       "    </tr>\n",
       "  </thead>\n",
       "  <tbody>\n",
       "    <tr>\n",
       "      <th>0</th>\n",
       "      <td>1</td>\n",
       "      <td>Fully Paid</td>\n",
       "    </tr>\n",
       "    <tr>\n",
       "      <th>1</th>\n",
       "      <td>1</td>\n",
       "      <td>Fully Paid</td>\n",
       "    </tr>\n",
       "    <tr>\n",
       "      <th>2</th>\n",
       "      <td>1</td>\n",
       "      <td>Fully Paid</td>\n",
       "    </tr>\n",
       "    <tr>\n",
       "      <th>3</th>\n",
       "      <td>1</td>\n",
       "      <td>Fully Paid</td>\n",
       "    </tr>\n",
       "    <tr>\n",
       "      <th>4</th>\n",
       "      <td>0</td>\n",
       "      <td>Charged Off</td>\n",
       "    </tr>\n",
       "    <tr>\n",
       "      <th>...</th>\n",
       "      <td>...</td>\n",
       "      <td>...</td>\n",
       "    </tr>\n",
       "    <tr>\n",
       "      <th>396025</th>\n",
       "      <td>1</td>\n",
       "      <td>Fully Paid</td>\n",
       "    </tr>\n",
       "    <tr>\n",
       "      <th>396026</th>\n",
       "      <td>1</td>\n",
       "      <td>Fully Paid</td>\n",
       "    </tr>\n",
       "    <tr>\n",
       "      <th>396027</th>\n",
       "      <td>1</td>\n",
       "      <td>Fully Paid</td>\n",
       "    </tr>\n",
       "    <tr>\n",
       "      <th>396028</th>\n",
       "      <td>1</td>\n",
       "      <td>Fully Paid</td>\n",
       "    </tr>\n",
       "    <tr>\n",
       "      <th>396029</th>\n",
       "      <td>1</td>\n",
       "      <td>Fully Paid</td>\n",
       "    </tr>\n",
       "  </tbody>\n",
       "</table>\n",
       "<p>396030 rows × 2 columns</p>\n",
       "</div>"
      ],
      "text/plain": [
       "        loan_repaid  loan_status\n",
       "0                 1   Fully Paid\n",
       "1                 1   Fully Paid\n",
       "2                 1   Fully Paid\n",
       "3                 1   Fully Paid\n",
       "4                 0  Charged Off\n",
       "...             ...          ...\n",
       "396025            1   Fully Paid\n",
       "396026            1   Fully Paid\n",
       "396027            1   Fully Paid\n",
       "396028            1   Fully Paid\n",
       "396029            1   Fully Paid\n",
       "\n",
       "[396030 rows x 2 columns]"
      ]
     },
     "execution_count": 229,
     "metadata": {},
     "output_type": "execute_result"
    }
   ],
   "source": [
    "loan[['loan_repaid','loan_status']]"
   ]
  },
  {
   "cell_type": "markdown",
   "id": "2a833299",
   "metadata": {},
   "source": [
    "Finding the correlation between the target and the numerical feature variables"
   ]
  },
  {
   "cell_type": "code",
   "execution_count": 230,
   "id": "4ab22065",
   "metadata": {},
   "outputs": [
    {
     "data": {
      "text/plain": [
       "<AxesSubplot:>"
      ]
     },
     "execution_count": 230,
     "metadata": {},
     "output_type": "execute_result"
    },
    {
     "data": {
      "image/png": "[encoded data removed]",
      "text/plain": [
       "<Figure size 432x288 with 1 Axes>"
      ]
     },
     "metadata": {},
     "output_type": "display_data"
    }
   ],
   "source": [
    "loan.corr()['loan_repaid'].sort_values()[:-1].plot(kind='bar') "
   ]
  },
  {
   "cell_type": "code",
   "execution_count": 231,
   "id": "5d4b8e31",
   "metadata": {},
   "outputs": [
    {
     "data": {
      "text/plain": [
       "396030"
      ]
     },
     "execution_count": 231,
     "metadata": {},
     "output_type": "execute_result"
    }
   ],
   "source": [
    "len(loan)"
   ]
  },
  {
   "cell_type": "markdown",
   "id": "5f5d1263",
   "metadata": {},
   "source": [
    "Fnding what percentage of data are missing in each feature"
   ]
  },
  {
   "cell_type": "code",
   "execution_count": 232,
   "id": "e951efcb",
   "metadata": {},
   "outputs": [
    {
     "data": {
      "text/plain": [
       "loan_amnt               0.000000\n",
       "term                    0.000000\n",
       "int_rate                0.000000\n",
       "installment             0.000000\n",
       "grade                   0.000000\n",
       "sub_grade               0.000000\n",
       "emp_title               5.789208\n",
       "emp_length              4.621115\n",
       "home_ownership          0.000000\n",
       "annual_inc              0.000000\n",
       "verification_status     0.000000\n",
       "issue_d                 0.000000\n",
       "loan_status             0.000000\n",
       "purpose                 0.000000\n",
       "title                   0.443148\n",
       "dti                     0.000000\n",
       "earliest_cr_line        0.000000\n",
       "open_acc                0.000000\n",
       "pub_rec                 0.000000\n",
       "revol_bal               0.000000\n",
       "revol_util              0.069692\n",
       "total_acc               0.000000\n",
       "initial_list_status     0.000000\n",
       "application_type        0.000000\n",
       "mort_acc                9.543469\n",
       "pub_rec_bankruptcies    0.135091\n",
       "address                 0.000000\n",
       "loan_repaid             0.000000\n",
       "dtype: float64"
      ]
     },
     "execution_count": 232,
     "metadata": {},
     "output_type": "execute_result"
    }
   ],
   "source": [
    "(loan.isnull().sum()/len(loan))*100"
   ]
  },
  {
   "cell_type": "code",
   "execution_count": 233,
   "id": "4419f811",
   "metadata": {},
   "outputs": [
    {
     "data": {
      "text/plain": [
       "173105"
      ]
     },
     "execution_count": 233,
     "metadata": {},
     "output_type": "execute_result"
    }
   ],
   "source": [
    "loan['emp_title'].nunique()"
   ]
  },
  {
   "cell_type": "code",
   "execution_count": 234,
   "id": "6009bf44",
   "metadata": {
    "scrolled": true
   },
   "outputs": [
    {
     "data": {
      "text/plain": [
       "Teacher                   4389\n",
       "Manager                   4250\n",
       "Registered Nurse          1856\n",
       "RN                        1846\n",
       "Supervisor                1830\n",
       "                          ... \n",
       "DEALER SERVICES              1\n",
       "TRANSPORT DRIVER             1\n",
       "Nutrimedia, LLC              1\n",
       "Heartland express inc.       1\n",
       "it security analyst          1\n",
       "Name: emp_title, Length: 173105, dtype: int64"
      ]
     },
     "execution_count": 234,
     "metadata": {},
     "output_type": "execute_result"
    }
   ],
   "source": [
    "loan['emp_title'].value_counts()"
   ]
  },
  {
   "cell_type": "markdown",
   "id": "8bebd73d",
   "metadata": {},
   "source": [
    "Dropping emp_title as there are too many unique titles"
   ]
  },
  {
   "cell_type": "code",
   "execution_count": 235,
   "id": "a8f7a831",
   "metadata": {},
   "outputs": [],
   "source": [
    "loan.drop(columns=['emp_title'],axis=1, inplace=True)"
   ]
  },
  {
   "cell_type": "code",
   "execution_count": 236,
   "id": "1e27b85c",
   "metadata": {},
   "outputs": [
    {
     "data": {
      "text/plain": [
       "11"
      ]
     },
     "execution_count": 236,
     "metadata": {},
     "output_type": "execute_result"
    }
   ],
   "source": [
    "loan['emp_length'].nunique()"
   ]
  },
  {
   "cell_type": "code",
   "execution_count": 237,
   "id": "163a1392",
   "metadata": {},
   "outputs": [
    {
     "data": {
      "text/plain": [
       "<AxesSubplot:xlabel='emp_length', ylabel='count'>"
      ]
     },
     "execution_count": 237,
     "metadata": {},
     "output_type": "execute_result"
    },
    {
     "data": {
      "image/png": "[encoded data removed]",
      "text/plain": [
       "<Figure size 720x432 with 1 Axes>"
      ]
     },
     "metadata": {},
     "output_type": "display_data"
    }
   ],
   "source": [
    "plt.figure(figsize=(10,6))\n",
    "sns.countplot(x='emp_length',data=loan, order=['< 1 year',\n",
    " '1 year',\n",
    " '2 years',\n",
    " '3 years',\n",
    " '4 years',\n",
    " '5 years',\n",
    " '6 years',\n",
    " '7 years',\n",
    " '8 years',\n",
    " '9 years',\n",
    " '10+ years'])"
   ]
  },
  {
   "cell_type": "code",
   "execution_count": 238,
   "id": "123ce786",
   "metadata": {},
   "outputs": [
    {
     "data": {
      "text/plain": [
       "['1 year',\n",
       " '10+ years',\n",
       " '2 years',\n",
       " '3 years',\n",
       " '4 years',\n",
       " '5 years',\n",
       " '6 years',\n",
       " '7 years',\n",
       " '8 years',\n",
       " '9 years',\n",
       " '< 1 year']"
      ]
     },
     "execution_count": 238,
     "metadata": {},
     "output_type": "execute_result"
    }
   ],
   "source": [
    "sorted(loan['emp_length'].dropna().unique())"
   ]
  },
  {
   "cell_type": "code",
   "execution_count": 239,
   "id": "1c3ee3ff",
   "metadata": {},
   "outputs": [
    {
     "data": {
      "text/plain": [
       "<AxesSubplot:xlabel='emp_length', ylabel='count'>"
      ]
     },
     "execution_count": 239,
     "metadata": {},
     "output_type": "execute_result"
    },
    {
     "data": {
      "image/png": "[encoded data removed]",
      "text/plain": [
       "<Figure size 720x432 with 1 Axes>"
      ]
     },
     "metadata": {},
     "output_type": "display_data"
    }
   ],
   "source": [
    "plt.figure(figsize=(10,6))\n",
    "sns.countplot(x='emp_length',data=loan, order=['< 1 year',\n",
    " '1 year',\n",
    " '2 years',\n",
    " '3 years',\n",
    " '4 years',\n",
    " '5 years',\n",
    " '6 years',\n",
    " '7 years',\n",
    " '8 years',\n",
    " '9 years',\n",
    " '10+ years'], hue='loan_status')"
   ]
  },
  {
   "cell_type": "code",
   "execution_count": 240,
   "id": "0110c2a0",
   "metadata": {},
   "outputs": [],
   "source": [
    "emp_count = loan.groupby('emp_length')['loan_status'].count()"
   ]
  },
  {
   "cell_type": "code",
   "execution_count": 241,
   "id": "21113134",
   "metadata": {},
   "outputs": [],
   "source": [
    "emp_co = loan[loan['loan_status']=='Charged Off'].groupby('emp_length')['loan_status'].count()"
   ]
  },
  {
   "cell_type": "code",
   "execution_count": 242,
   "id": "6668ff90",
   "metadata": {},
   "outputs": [],
   "source": [
    "emp_fp = loan[loan['loan_status']=='Fully Paid'].groupby('emp_length')['loan_status'].count()"
   ]
  },
  {
   "cell_type": "code",
   "execution_count": 243,
   "id": "56fe5bf4",
   "metadata": {},
   "outputs": [
    {
     "data": {
      "text/plain": [
       "emp_length\n",
       "1 year       0.248649\n",
       "10+ years    0.225770\n",
       "2 years      0.239560\n",
       "3 years      0.242593\n",
       "4 years      0.238213\n",
       "5 years      0.237911\n",
       "6 years      0.233341\n",
       "7 years      0.241887\n",
       "8 years      0.249625\n",
       "9 years      0.250735\n",
       "< 1 year     0.260830\n",
       "Name: loan_status, dtype: float64"
      ]
     },
     "execution_count": 243,
     "metadata": {},
     "output_type": "execute_result"
    }
   ],
   "source": [
    "(emp_co/emp_fp)"
   ]
  },
  {
   "cell_type": "markdown",
   "id": "2ffa2c42",
   "metadata": {},
   "source": [
    "For different years of work experience, the percentage of defaulters is nearly the same. There is no variability. Hence dropping this feature"
   ]
  },
  {
   "cell_type": "code",
   "execution_count": 244,
   "id": "ac7e7fab",
   "metadata": {},
   "outputs": [
    {
     "data": {
      "text/plain": [
       "<AxesSubplot:xlabel='emp_length'>"
      ]
     },
     "execution_count": 244,
     "metadata": {},
     "output_type": "execute_result"
    },
    {
     "data": {
      "image/png": "[encoded data removed]",
      "text/plain": [
       "<Figure size 432x288 with 1 Axes>"
      ]
     },
     "metadata": {},
     "output_type": "display_data"
    }
   ],
   "source": [
    "(emp_co/emp_fp).plot(kind='bar')"
   ]
  },
  {
   "cell_type": "code",
   "execution_count": 245,
   "id": "0ad25f45",
   "metadata": {},
   "outputs": [],
   "source": [
    "loan.drop(columns=['emp_length'],axis=1, inplace=True)"
   ]
  },
  {
   "cell_type": "code",
   "execution_count": 246,
   "id": "bf404903",
   "metadata": {},
   "outputs": [
    {
     "data": {
      "text/plain": [
       "loan_amnt                   0\n",
       "term                        0\n",
       "int_rate                    0\n",
       "installment                 0\n",
       "grade                       0\n",
       "sub_grade                   0\n",
       "home_ownership              0\n",
       "annual_inc                  0\n",
       "verification_status         0\n",
       "issue_d                     0\n",
       "loan_status                 0\n",
       "purpose                     0\n",
       "title                    1755\n",
       "dti                         0\n",
       "earliest_cr_line            0\n",
       "open_acc                    0\n",
       "pub_rec                     0\n",
       "revol_bal                   0\n",
       "revol_util                276\n",
       "total_acc                   0\n",
       "initial_list_status         0\n",
       "application_type            0\n",
       "mort_acc                37795\n",
       "pub_rec_bankruptcies      535\n",
       "address                     0\n",
       "loan_repaid                 0\n",
       "dtype: int64"
      ]
     },
     "execution_count": 246,
     "metadata": {},
     "output_type": "execute_result"
    }
   ],
   "source": [
    "loan.isnull().sum()"
   ]
  },
  {
   "cell_type": "code",
   "execution_count": 247,
   "id": "f035f3a3",
   "metadata": {},
   "outputs": [
    {
     "data": {
      "text/plain": [
       "48817"
      ]
     },
     "execution_count": 247,
     "metadata": {},
     "output_type": "execute_result"
    }
   ],
   "source": [
    "loan['title'].nunique()"
   ]
  },
  {
   "cell_type": "code",
   "execution_count": 248,
   "id": "bfa4fc43",
   "metadata": {},
   "outputs": [
    {
     "data": {
      "text/plain": [
       "Debt consolidation                     152472\n",
       "Credit card refinancing                 51487\n",
       "Home improvement                        15264\n",
       "Other                                   12930\n",
       "Debt Consolidation                      11608\n",
       "                                        ...  \n",
       "Refinance high interest Credit Card         1\n",
       "Apartment Funding                           1\n",
       "Fix everything loan                         1\n",
       "leneding club credit card refi              1\n",
       "loanish                                     1\n",
       "Name: title, Length: 48817, dtype: int64"
      ]
     },
     "execution_count": 248,
     "metadata": {},
     "output_type": "execute_result"
    }
   ],
   "source": [
    "loan['title'].value_counts()"
   ]
  },
  {
   "cell_type": "code",
   "execution_count": 249,
   "id": "fa1c1723",
   "metadata": {},
   "outputs": [
    {
     "data": {
      "text/plain": [
       "debt_consolidation    234507\n",
       "credit_card            83019\n",
       "home_improvement       24030\n",
       "other                  21185\n",
       "major_purchase          8790\n",
       "small_business          5701\n",
       "car                     4697\n",
       "medical                 4196\n",
       "moving                  2854\n",
       "vacation                2452\n",
       "house                   2201\n",
       "wedding                 1812\n",
       "renewable_energy         329\n",
       "educational              257\n",
       "Name: purpose, dtype: int64"
      ]
     },
     "execution_count": 249,
     "metadata": {},
     "output_type": "execute_result"
    }
   ],
   "source": [
    "loan['purpose'].value_counts()"
   ]
  },
  {
   "cell_type": "code",
   "execution_count": 250,
   "id": "92c8c959",
   "metadata": {},
   "outputs": [
    {
     "data": {
      "text/plain": [
       "14"
      ]
     },
     "execution_count": 250,
     "metadata": {},
     "output_type": "execute_result"
    }
   ],
   "source": [
    "loan['purpose'].nunique()"
   ]
  },
  {
   "cell_type": "markdown",
   "id": "8a2d0324",
   "metadata": {},
   "source": [
    "The loan title seems to be included in 'purpose' feature, hence dropping that"
   ]
  },
  {
   "cell_type": "code",
   "execution_count": 251,
   "id": "58e4bfa4",
   "metadata": {},
   "outputs": [],
   "source": [
    "loan.drop(columns=['title'],axis=1, inplace=True)"
   ]
  },
  {
   "cell_type": "code",
   "execution_count": 252,
   "id": "00123356",
   "metadata": {},
   "outputs": [
    {
     "data": {
      "text/plain": [
       "0.0     139777\n",
       "1.0      60416\n",
       "2.0      49948\n",
       "3.0      38049\n",
       "4.0      27887\n",
       "5.0      18194\n",
       "6.0      11069\n",
       "7.0       6052\n",
       "8.0       3121\n",
       "9.0       1656\n",
       "10.0       865\n",
       "11.0       479\n",
       "12.0       264\n",
       "13.0       146\n",
       "14.0       107\n",
       "15.0        61\n",
       "16.0        37\n",
       "17.0        22\n",
       "18.0        18\n",
       "19.0        15\n",
       "20.0        13\n",
       "24.0        10\n",
       "22.0         7\n",
       "21.0         4\n",
       "25.0         4\n",
       "27.0         3\n",
       "23.0         2\n",
       "31.0         2\n",
       "26.0         2\n",
       "32.0         2\n",
       "28.0         1\n",
       "34.0         1\n",
       "30.0         1\n",
       "Name: mort_acc, dtype: int64"
      ]
     },
     "execution_count": 252,
     "metadata": {},
     "output_type": "execute_result"
    }
   ],
   "source": [
    "loan['mort_acc'].value_counts()"
   ]
  },
  {
   "cell_type": "code",
   "execution_count": 253,
   "id": "1eebbb65",
   "metadata": {},
   "outputs": [
    {
     "data": {
      "text/plain": [
       "int_rate               -0.082583\n",
       "dti                    -0.025439\n",
       "revol_util              0.007514\n",
       "pub_rec                 0.011552\n",
       "pub_rec_bankruptcies    0.027239\n",
       "loan_repaid             0.073111\n",
       "open_acc                0.109205\n",
       "installment             0.193694\n",
       "revol_bal               0.194925\n",
       "loan_amnt               0.222315\n",
       "annual_inc              0.236320\n",
       "total_acc               0.381072\n",
       "mort_acc                1.000000\n",
       "Name: mort_acc, dtype: float64"
      ]
     },
     "execution_count": 253,
     "metadata": {},
     "output_type": "execute_result"
    }
   ],
   "source": [
    "loan.corr()['mort_acc'].sort_values()"
   ]
  },
  {
   "cell_type": "markdown",
   "id": "4d2e436c",
   "metadata": {},
   "source": [
    "Mort_acc has good correlation with total_acc"
   ]
  },
  {
   "cell_type": "code",
   "execution_count": 254,
   "id": "af543fa5",
   "metadata": {},
   "outputs": [
    {
     "data": {
      "text/plain": [
       "118"
      ]
     },
     "execution_count": 254,
     "metadata": {},
     "output_type": "execute_result"
    }
   ],
   "source": [
    "loan['total_acc'].nunique()"
   ]
  },
  {
   "cell_type": "code",
   "execution_count": 255,
   "id": "37d9a991",
   "metadata": {},
   "outputs": [
    {
     "data": {
      "text/plain": [
       "array([ 25.,  27.,  26.,  13.,  43.,  23.,  15.,  40.,  37.,  61.,  35.,\n",
       "        22.,  20.,  36.,  38.,   7.,  18.,  10.,  17.,  29.,  16.,  21.,\n",
       "        34.,   9.,  14.,  59.,  41.,  19.,  12.,  30.,  56.,  24.,  28.,\n",
       "         8.,  52.,  31.,  44.,  39.,  50.,  11.,  62.,  32.,   5.,  33.,\n",
       "        46.,  42.,   6.,  49.,  45.,  57.,  48.,  67.,  47.,  51.,  58.,\n",
       "         3.,  55.,  63.,  53.,   4.,  71.,  69.,  54.,  64.,  81.,  72.,\n",
       "        60.,  68.,  65.,  73.,  78.,  84.,   2.,  76.,  75.,  79.,  87.,\n",
       "        77., 104.,  89.,  70., 105.,  97.,  66., 108.,  74.,  80.,  82.,\n",
       "        91.,  93., 106.,  90.,  85.,  88.,  83., 111.,  86., 101., 135.,\n",
       "        92.,  94.,  95.,  99., 102., 129., 110., 124., 151., 107., 118.,\n",
       "       150., 115., 117.,  96.,  98., 100., 116., 103.])"
      ]
     },
     "execution_count": 255,
     "metadata": {},
     "output_type": "execute_result"
    }
   ],
   "source": [
    "loan['total_acc'].unique()"
   ]
  },
  {
   "cell_type": "code",
   "execution_count": 256,
   "id": "e91f6d12",
   "metadata": {},
   "outputs": [
    {
     "data": {
      "text/plain": [
       "<AxesSubplot:xlabel='mort_acc', ylabel='count'>"
      ]
     },
     "execution_count": 256,
     "metadata": {},
     "output_type": "execute_result"
    },
    {
     "data": {
      "image/png": "[encoded data removed]",
      "text/plain": [
       "<Figure size 1080x432 with 1 Axes>"
      ]
     },
     "metadata": {},
     "output_type": "display_data"
    }
   ],
   "source": [
    "plt.figure(figsize=(15,6))\n",
    "sns.countplot(x='mort_acc', data=loan,hue='loan_status')"
   ]
  },
  {
   "cell_type": "code",
   "execution_count": 257,
   "id": "32d2c0d4",
   "metadata": {},
   "outputs": [
    {
     "name": "stdout",
     "output_type": "stream",
     "text": [
      "mort_acc\n",
      "0.0     33157\n",
      "1.0     12122\n",
      "2.0      9297\n",
      "3.0      6535\n",
      "4.0      4615\n",
      "5.0      2858\n",
      "6.0      1721\n",
      "7.0       897\n",
      "8.0       443\n",
      "9.0       209\n",
      "10.0      112\n",
      "11.0       57\n",
      "12.0       37\n",
      "13.0       17\n",
      "14.0        9\n",
      "15.0       11\n",
      "16.0       10\n",
      "17.0        3\n",
      "18.0        2\n",
      "19.0        5\n",
      "20.0        3\n",
      "21.0        1\n",
      "22.0        1\n",
      "23.0        1\n",
      "Name: loan_amnt, dtype: int64\n"
     ]
    }
   ],
   "source": [
    "mort_acc_co = loan[loan['loan_status']=='Charged Off'].groupby('mort_acc').count()['loan_amnt']\n",
    "print(mort_acc_co)"
   ]
  },
  {
   "cell_type": "code",
   "execution_count": 258,
   "id": "64bd6c05",
   "metadata": {},
   "outputs": [
    {
     "name": "stdout",
     "output_type": "stream",
     "text": [
      "mort_acc\n",
      "0.0     106620\n",
      "1.0      48294\n",
      "2.0      40651\n",
      "3.0      31514\n",
      "4.0      23272\n",
      "5.0      15336\n",
      "6.0       9348\n",
      "7.0       5155\n",
      "8.0       2678\n",
      "9.0       1447\n",
      "10.0       753\n",
      "11.0       422\n",
      "12.0       227\n",
      "13.0       129\n",
      "14.0        98\n",
      "15.0        50\n",
      "16.0        27\n",
      "17.0        19\n",
      "18.0        16\n",
      "19.0        10\n",
      "20.0        10\n",
      "21.0         3\n",
      "22.0         6\n",
      "23.0         1\n",
      "24.0        10\n",
      "25.0         4\n",
      "26.0         2\n",
      "27.0         3\n",
      "28.0         1\n",
      "30.0         1\n",
      "31.0         2\n",
      "32.0         2\n",
      "34.0         1\n",
      "Name: loan_amnt, dtype: int64\n"
     ]
    }
   ],
   "source": [
    "mort_acc_fp = loan[loan['loan_status']=='Fully Paid'].groupby('mort_acc').count()['loan_amnt']\n",
    "print(mort_acc_fp)"
   ]
  },
  {
   "cell_type": "code",
   "execution_count": 259,
   "id": "10bf0711",
   "metadata": {
    "scrolled": true
   },
   "outputs": [
    {
     "data": {
      "text/plain": [
       "mort_acc\n",
       "0.0     0.310983\n",
       "1.0     0.251004\n",
       "2.0     0.228703\n",
       "3.0     0.207368\n",
       "4.0     0.198307\n",
       "5.0     0.186359\n",
       "6.0     0.184104\n",
       "7.0     0.174006\n",
       "8.0     0.165422\n",
       "9.0     0.144437\n",
       "10.0    0.148738\n",
       "11.0    0.135071\n",
       "12.0    0.162996\n",
       "13.0    0.131783\n",
       "14.0    0.091837\n",
       "15.0    0.220000\n",
       "16.0    0.370370\n",
       "17.0    0.157895\n",
       "18.0    0.125000\n",
       "19.0    0.500000\n",
       "20.0    0.300000\n",
       "21.0    0.333333\n",
       "22.0    0.166667\n",
       "23.0    1.000000\n",
       "24.0         NaN\n",
       "25.0         NaN\n",
       "26.0         NaN\n",
       "27.0         NaN\n",
       "28.0         NaN\n",
       "30.0         NaN\n",
       "31.0         NaN\n",
       "32.0         NaN\n",
       "34.0         NaN\n",
       "Name: loan_amnt, dtype: float64"
      ]
     },
     "execution_count": 259,
     "metadata": {},
     "output_type": "execute_result"
    }
   ],
   "source": [
    "mort_acc_co/mort_acc_fp"
   ]
  },
  {
   "cell_type": "markdown",
   "id": "26d1d8c0",
   "metadata": {},
   "source": [
    "Obtaining mean value of mort_acc corresponding to total_acc"
   ]
  },
  {
   "cell_type": "code",
   "execution_count": 260,
   "id": "7b34a952",
   "metadata": {},
   "outputs": [],
   "source": [
    "mean_mortacc_based_totalacc = loan.groupby('total_acc').mean()['mort_acc']"
   ]
  },
  {
   "cell_type": "code",
   "execution_count": 261,
   "id": "825cb005",
   "metadata": {},
   "outputs": [
    {
     "data": {
      "text/plain": [
       "0.05202312138728324"
      ]
     },
     "execution_count": 261,
     "metadata": {},
     "output_type": "execute_result"
    }
   ],
   "source": [
    "mean_mortacc_based_totalacc[3.0]"
   ]
  },
  {
   "cell_type": "markdown",
   "id": "a93fcfc3",
   "metadata": {},
   "source": [
    "Data imputation: Custom function to fill missing values of mort_acc based on mort_acc value corresponding to total_acc value"
   ]
  },
  {
   "cell_type": "code",
   "execution_count": 262,
   "id": "39ab0844",
   "metadata": {},
   "outputs": [],
   "source": [
    "def fill_mort_acc(mort_acc,total_acc):\n",
    "    if np.isnan(mort_acc):\n",
    "        return mean_mortacc_based_totalacc[total_acc]\n",
    "    else:\n",
    "        return mort_acc"
   ]
  },
  {
   "cell_type": "code",
   "execution_count": 263,
   "id": "7f6e613f",
   "metadata": {},
   "outputs": [],
   "source": [
    "loan['mort_acc'] = loan.apply(lambda x: fill_mort_acc(x['mort_acc'],x['total_acc']),axis=1)"
   ]
  },
  {
   "cell_type": "code",
   "execution_count": 264,
   "id": "335df50f",
   "metadata": {},
   "outputs": [
    {
     "data": {
      "text/plain": [
       "loan_amnt                 0\n",
       "term                      0\n",
       "int_rate                  0\n",
       "installment               0\n",
       "grade                     0\n",
       "sub_grade                 0\n",
       "home_ownership            0\n",
       "annual_inc                0\n",
       "verification_status       0\n",
       "issue_d                   0\n",
       "loan_status               0\n",
       "purpose                   0\n",
       "dti                       0\n",
       "earliest_cr_line          0\n",
       "open_acc                  0\n",
       "pub_rec                   0\n",
       "revol_bal                 0\n",
       "revol_util              276\n",
       "total_acc                 0\n",
       "initial_list_status       0\n",
       "application_type          0\n",
       "mort_acc                  0\n",
       "pub_rec_bankruptcies    535\n",
       "address                   0\n",
       "loan_repaid               0\n",
       "dtype: int64"
      ]
     },
     "execution_count": 264,
     "metadata": {},
     "output_type": "execute_result"
    }
   ],
   "source": [
    "loan.isnull().sum()"
   ]
  },
  {
   "cell_type": "markdown",
   "id": "17a0f984",
   "metadata": {},
   "source": [
    "Ensured all mort_acc values are successfully imputed"
   ]
  },
  {
   "cell_type": "code",
   "execution_count": 265,
   "id": "c467db67",
   "metadata": {},
   "outputs": [
    {
     "data": {
      "text/plain": [
       "1226"
      ]
     },
     "execution_count": 265,
     "metadata": {},
     "output_type": "execute_result"
    }
   ],
   "source": [
    "loan['revol_util'].nunique()"
   ]
  },
  {
   "cell_type": "code",
   "execution_count": 266,
   "id": "d1b7c5f7",
   "metadata": {},
   "outputs": [
    {
     "data": {
      "text/plain": [
       "9"
      ]
     },
     "execution_count": 266,
     "metadata": {},
     "output_type": "execute_result"
    }
   ],
   "source": [
    "loan['pub_rec_bankruptcies'].nunique()"
   ]
  },
  {
   "cell_type": "code",
   "execution_count": 267,
   "id": "e69f2e63",
   "metadata": {},
   "outputs": [
    {
     "data": {
      "text/plain": [
       "396030"
      ]
     },
     "execution_count": 267,
     "metadata": {},
     "output_type": "execute_result"
    }
   ],
   "source": [
    "len(loan)"
   ]
  },
  {
   "cell_type": "markdown",
   "id": "76d8c36a",
   "metadata": {},
   "source": [
    "Dropping any more records which are having null value as they are relatively low compared to the overall records"
   ]
  },
  {
   "cell_type": "code",
   "execution_count": 268,
   "id": "f3e6f3f2",
   "metadata": {},
   "outputs": [],
   "source": [
    "loan.dropna(axis=0, how='any',inplace=True)"
   ]
  },
  {
   "cell_type": "code",
   "execution_count": 269,
   "id": "38b235e1",
   "metadata": {},
   "outputs": [
    {
     "data": {
      "text/plain": [
       "395219"
      ]
     },
     "execution_count": 269,
     "metadata": {},
     "output_type": "execute_result"
    }
   ],
   "source": [
    "len(loan)"
   ]
  },
  {
   "cell_type": "code",
   "execution_count": 270,
   "id": "2ac62ab9",
   "metadata": {},
   "outputs": [
    {
     "data": {
      "text/plain": [
       "loan_amnt               0\n",
       "term                    0\n",
       "int_rate                0\n",
       "installment             0\n",
       "grade                   0\n",
       "sub_grade               0\n",
       "home_ownership          0\n",
       "annual_inc              0\n",
       "verification_status     0\n",
       "issue_d                 0\n",
       "loan_status             0\n",
       "purpose                 0\n",
       "dti                     0\n",
       "earliest_cr_line        0\n",
       "open_acc                0\n",
       "pub_rec                 0\n",
       "revol_bal               0\n",
       "revol_util              0\n",
       "total_acc               0\n",
       "initial_list_status     0\n",
       "application_type        0\n",
       "mort_acc                0\n",
       "pub_rec_bankruptcies    0\n",
       "address                 0\n",
       "loan_repaid             0\n",
       "dtype: int64"
      ]
     },
     "execution_count": 270,
     "metadata": {},
     "output_type": "execute_result"
    }
   ],
   "source": [
    "loan.isnull().sum()"
   ]
  },
  {
   "cell_type": "code",
   "execution_count": 271,
   "id": "668ec50b",
   "metadata": {},
   "outputs": [
    {
     "name": "stdout",
     "output_type": "stream",
     "text": [
      "<class 'pandas.core.frame.DataFrame'>\n",
      "Int64Index: 395219 entries, 0 to 396029\n",
      "Data columns (total 25 columns):\n",
      " #   Column                Non-Null Count   Dtype  \n",
      "---  ------                --------------   -----  \n",
      " 0   loan_amnt             395219 non-null  float64\n",
      " 1   term                  395219 non-null  object \n",
      " 2   int_rate              395219 non-null  float64\n",
      " 3   installment           395219 non-null  float64\n",
      " 4   grade                 395219 non-null  object \n",
      " 5   sub_grade             395219 non-null  object \n",
      " 6   home_ownership        395219 non-null  object \n",
      " 7   annual_inc            395219 non-null  float64\n",
      " 8   verification_status   395219 non-null  object \n",
      " 9   issue_d               395219 non-null  object \n",
      " 10  loan_status           395219 non-null  object \n",
      " 11  purpose               395219 non-null  object \n",
      " 12  dti                   395219 non-null  float64\n",
      " 13  earliest_cr_line      395219 non-null  object \n",
      " 14  open_acc              395219 non-null  float64\n",
      " 15  pub_rec               395219 non-null  float64\n",
      " 16  revol_bal             395219 non-null  float64\n",
      " 17  revol_util            395219 non-null  float64\n",
      " 18  total_acc             395219 non-null  float64\n",
      " 19  initial_list_status   395219 non-null  object \n",
      " 20  application_type      395219 non-null  object \n",
      " 21  mort_acc              395219 non-null  float64\n",
      " 22  pub_rec_bankruptcies  395219 non-null  float64\n",
      " 23  address               395219 non-null  object \n",
      " 24  loan_repaid           395219 non-null  int64  \n",
      "dtypes: float64(12), int64(1), object(12)\n",
      "memory usage: 78.4+ MB\n"
     ]
    }
   ],
   "source": [
    "loan.info()"
   ]
  },
  {
   "cell_type": "markdown",
   "id": "81b1e27b",
   "metadata": {},
   "source": [
    "Checking for features containing non-numerical values to convert them to numerical wherever possible"
   ]
  },
  {
   "cell_type": "code",
   "execution_count": 272,
   "id": "43fb3a68",
   "metadata": {},
   "outputs": [
    {
     "data": {
      "text/plain": [
       "12"
      ]
     },
     "execution_count": 272,
     "metadata": {},
     "output_type": "execute_result"
    }
   ],
   "source": [
    "len(loan.select_dtypes(include=['object']).columns)"
   ]
  },
  {
   "cell_type": "code",
   "execution_count": 273,
   "id": "22b2281a",
   "metadata": {},
   "outputs": [
    {
     "data": {
      "text/plain": [
       "Index(['term', 'grade', 'sub_grade', 'home_ownership', 'verification_status',\n",
       "       'issue_d', 'loan_status', 'purpose', 'earliest_cr_line',\n",
       "       'initial_list_status', 'application_type', 'address'],\n",
       "      dtype='object')"
      ]
     },
     "execution_count": 273,
     "metadata": {},
     "output_type": "execute_result"
    }
   ],
   "source": [
    "loan.select_dtypes(include=['object']).columns"
   ]
  },
  {
   "cell_type": "code",
   "execution_count": 274,
   "id": "ad10a57f",
   "metadata": {},
   "outputs": [
    {
     "data": {
      "text/plain": [
       "array([' 36 months', ' 60 months'], dtype=object)"
      ]
     },
     "execution_count": 274,
     "metadata": {},
     "output_type": "execute_result"
    }
   ],
   "source": [
    "loan['term'].unique()"
   ]
  },
  {
   "cell_type": "code",
   "execution_count": 275,
   "id": "1a896a96",
   "metadata": {},
   "outputs": [],
   "source": [
    "loan['term'] = loan['term'].map({' 36 months':36, ' 60 months':60})"
   ]
  },
  {
   "cell_type": "code",
   "execution_count": 276,
   "id": "757c37a0",
   "metadata": {},
   "outputs": [
    {
     "data": {
      "text/plain": [
       "array([36, 60], dtype=int64)"
      ]
     },
     "execution_count": 276,
     "metadata": {},
     "output_type": "execute_result"
    }
   ],
   "source": [
    "loan['term'].unique()"
   ]
  },
  {
   "cell_type": "code",
   "execution_count": 277,
   "id": "b22164e1",
   "metadata": {},
   "outputs": [
    {
     "data": {
      "text/plain": [
       "array(['RENT', 'MORTGAGE', 'OWN', 'OTHER', 'ANY', 'NONE'], dtype=object)"
      ]
     },
     "execution_count": 277,
     "metadata": {},
     "output_type": "execute_result"
    }
   ],
   "source": [
    "loan['home_ownership'].unique()"
   ]
  },
  {
   "cell_type": "code",
   "execution_count": 278,
   "id": "1b055e17",
   "metadata": {},
   "outputs": [
    {
     "data": {
      "text/plain": [
       "array(['Not Verified', 'Source Verified', 'Verified'], dtype=object)"
      ]
     },
     "execution_count": 278,
     "metadata": {},
     "output_type": "execute_result"
    }
   ],
   "source": [
    "loan['verification_status'].unique()"
   ]
  },
  {
   "cell_type": "code",
   "execution_count": 279,
   "id": "4d2c388a",
   "metadata": {},
   "outputs": [
    {
     "data": {
      "text/plain": [
       "array(['Jan-2015', 'Nov-2014', 'Apr-2013', 'Sep-2015', 'Sep-2012',\n",
       "       'Oct-2014', 'Apr-2012', 'Jun-2013', 'May-2014', 'Dec-2015',\n",
       "       'Apr-2015', 'Oct-2012', 'Jul-2014', 'Feb-2013', 'Oct-2015',\n",
       "       'Jan-2014', 'Mar-2016', 'Apr-2014', 'Jun-2011', 'Apr-2010',\n",
       "       'Jun-2014', 'Oct-2013', 'May-2013', 'Feb-2015', 'Oct-2011',\n",
       "       'Jun-2015', 'Aug-2013', 'Feb-2014', 'Dec-2011', 'Mar-2013',\n",
       "       'Jun-2016', 'Mar-2014', 'Nov-2013', 'Dec-2014', 'Apr-2016',\n",
       "       'Sep-2013', 'May-2016', 'Jul-2015', 'Jul-2013', 'Aug-2014',\n",
       "       'May-2008', 'Mar-2010', 'Dec-2013', 'Mar-2012', 'Mar-2015',\n",
       "       'Sep-2011', 'Jul-2012', 'Dec-2012', 'Sep-2014', 'Nov-2012',\n",
       "       'Nov-2015', 'Jan-2011', 'May-2012', 'Feb-2016', 'Jun-2012',\n",
       "       'Aug-2012', 'Jan-2016', 'May-2015', 'Oct-2016', 'Aug-2015',\n",
       "       'Jul-2016', 'May-2009', 'Aug-2016', 'Jan-2012', 'Jan-2013',\n",
       "       'Nov-2010', 'Jul-2011', 'Mar-2011', 'Feb-2012', 'May-2011',\n",
       "       'Aug-2010', 'Nov-2016', 'Jul-2010', 'Sep-2010', 'Dec-2010',\n",
       "       'Feb-2011', 'Jun-2009', 'Aug-2011', 'Dec-2016', 'Mar-2009',\n",
       "       'Jun-2010', 'May-2010', 'Nov-2011', 'Sep-2016', 'Oct-2009',\n",
       "       'Nov-2008', 'Dec-2009', 'Oct-2010', 'Sep-2009', 'Aug-2009',\n",
       "       'Jul-2009', 'Nov-2009', 'Jan-2010', 'Dec-2008', 'Feb-2009',\n",
       "       'Oct-2008', 'Apr-2009', 'Feb-2010', 'Apr-2011', 'Apr-2008',\n",
       "       'Aug-2008', 'Jan-2009', 'Sep-2008', 'Jun-2008', 'Jul-2008',\n",
       "       'Mar-2008', 'Oct-2007', 'Dec-2007', 'Feb-2008', 'Jan-2008',\n",
       "       'Nov-2007', 'Aug-2007'], dtype=object)"
      ]
     },
     "execution_count": 279,
     "metadata": {},
     "output_type": "execute_result"
    }
   ],
   "source": [
    "loan['issue_d'].unique()"
   ]
  },
  {
   "cell_type": "code",
   "execution_count": 280,
   "id": "0d925592",
   "metadata": {},
   "outputs": [
    {
     "data": {
      "text/plain": [
       "14"
      ]
     },
     "execution_count": 280,
     "metadata": {},
     "output_type": "execute_result"
    }
   ],
   "source": [
    "loan['purpose'].nunique()"
   ]
  },
  {
   "cell_type": "code",
   "execution_count": 281,
   "id": "40ba9d16",
   "metadata": {},
   "outputs": [
    {
     "data": {
      "text/plain": [
       "array(['Jun-1990', 'Jul-2004', 'Aug-2007', 'Sep-2006', 'Mar-1999',\n",
       "       'Jan-2005', 'Aug-2005', 'Sep-1994', 'Jun-1994', 'Dec-1997',\n",
       "       'Dec-1990', 'May-1984', 'Apr-1995', 'Jan-1997', 'May-2001',\n",
       "       'Mar-1982', 'Sep-1996', 'Jan-1990', 'Mar-2000', 'Jan-2006',\n",
       "       'Oct-2006', 'Jan-2003', 'May-2008', 'Oct-2003', 'Jun-2004',\n",
       "       'Jan-1999', 'Apr-1994', 'Apr-1998', 'Jul-2007', 'Apr-2002',\n",
       "       'Oct-2007', 'Jun-2009', 'May-1997', 'Jul-2006', 'Sep-2003',\n",
       "       'Aug-1992', 'Dec-1988', 'Feb-2002', 'Jan-1992', 'Aug-2001',\n",
       "       'Dec-2010', 'Oct-1999', 'Sep-2004', 'Aug-1994', 'Jul-2003',\n",
       "       'Apr-2000', 'Dec-2004', 'Jun-1995', 'Dec-2003', 'Jul-1994',\n",
       "       'Oct-1990', 'Dec-2001', 'Apr-1999', 'Feb-1995', 'May-2003',\n",
       "       'Oct-2002', 'Mar-2004', 'Aug-2003', 'Oct-2000', 'Nov-2004',\n",
       "       'Mar-2010', 'Mar-1996', 'May-1994', 'Jun-1996', 'Nov-1986',\n",
       "       'Jan-2001', 'Jan-2002', 'Mar-2001', 'Sep-2012', 'Apr-2006',\n",
       "       'May-1998', 'Dec-2002', 'Nov-2003', 'Oct-2005', 'May-1990',\n",
       "       'Jun-2003', 'Jun-2001', 'Jan-1998', 'Oct-1978', 'Feb-2001',\n",
       "       'Jun-2006', 'Aug-1993', 'Apr-2001', 'Nov-2001', 'Feb-2003',\n",
       "       'Jun-1993', 'Sep-1992', 'Nov-1992', 'Jun-1983', 'Oct-2001',\n",
       "       'Jul-1999', 'Sep-1997', 'Nov-1993', 'Feb-1993', 'Apr-2007',\n",
       "       'Nov-1999', 'Nov-2005', 'Dec-1992', 'Mar-1986', 'May-1989',\n",
       "       'Dec-2000', 'Mar-1991', 'Mar-2005', 'Jun-2010', 'Dec-1998',\n",
       "       'Sep-2001', 'Nov-2000', 'Jan-1994', 'Aug-2002', 'Jan-2011',\n",
       "       'Aug-2008', 'Jun-2005', 'Nov-1997', 'May-1996', 'Apr-2010',\n",
       "       'May-1993', 'Sep-2005', 'Jun-1992', 'Apr-1986', 'Aug-1996',\n",
       "       'Aug-1997', 'Jul-2005', 'May-2011', 'Sep-2002', 'Jan-1989',\n",
       "       'Aug-1999', 'Feb-1992', 'Sep-1999', 'Jul-2001', 'May-1980',\n",
       "       'Oct-2008', 'Nov-2007', 'Apr-1997', 'Jun-1986', 'Sep-1998',\n",
       "       'Jun-1982', 'Oct-1981', 'Feb-1994', 'Dec-1984', 'Nov-1991',\n",
       "       'Nov-2006', 'Aug-2000', 'Oct-2004', 'Jun-2011', 'Apr-1988',\n",
       "       'May-2004', 'Aug-1988', 'Mar-1994', 'Aug-2004', 'Dec-2006',\n",
       "       'Nov-1998', 'Oct-1997', 'Mar-1989', 'Feb-1988', 'Jul-1982',\n",
       "       'Nov-1995', 'Mar-1997', 'Oct-1994', 'Jul-1998', 'Jun-2002',\n",
       "       'May-1991', 'Oct-2011', 'Sep-2007', 'Jan-2007', 'Jan-2010',\n",
       "       'Mar-1987', 'Feb-1997', 'Oct-1986', 'Mar-2002', 'Jul-1993',\n",
       "       'Mar-2007', 'Aug-1989', 'Oct-1995', 'May-2007', 'Dec-1993',\n",
       "       'Jun-1989', 'Apr-2004', 'Jun-1997', 'Apr-1996', 'Apr-1992',\n",
       "       'Oct-1998', 'Mar-1983', 'Mar-1985', 'Oct-1993', 'Feb-2000',\n",
       "       'Apr-2003', 'Oct-1985', 'Jul-1985', 'May-1978', 'Sep-2010',\n",
       "       'Oct-1996', 'Sep-2009', 'Jun-1999', 'Jan-2000', 'Sep-1987',\n",
       "       'Aug-1998', 'Jan-1995', 'Jul-1988', 'May-2000', 'Jun-1981',\n",
       "       'Feb-1998', 'Nov-1996', 'Aug-1967', 'Dec-1999', 'Aug-2006',\n",
       "       'Nov-2009', 'Jul-2000', 'Mar-1988', 'Jul-1992', 'Jul-1991',\n",
       "       'Mar-1990', 'May-1986', 'Jun-1991', 'Dec-1987', 'Jul-1996',\n",
       "       'Jul-1997', 'Aug-1990', 'Jan-1988', 'Dec-2005', 'Mar-2003',\n",
       "       'Feb-1999', 'Nov-1990', 'Jun-2000', 'Dec-1996', 'Jan-2004',\n",
       "       'May-1999', 'Sep-1972', 'Jul-1981', 'Sep-1993', 'Feb-2009',\n",
       "       'Nov-2002', 'Nov-1969', 'Jan-1993', 'May-2005', 'Sep-1982',\n",
       "       'Apr-1990', 'Feb-1996', 'Mar-1993', 'Apr-1978', 'Jul-1995',\n",
       "       'May-1995', 'Apr-1991', 'Mar-1998', 'Aug-1991', 'Jul-2002',\n",
       "       'Oct-1989', 'Apr-1984', 'Dec-2009', 'Sep-2000', 'Jan-1982',\n",
       "       'Jun-1998', 'Jan-1996', 'Nov-1987', 'May-2010', 'Jul-1989',\n",
       "       'Jun-1987', 'Oct-1987', 'Aug-1995', 'Feb-2004', 'Oct-1991',\n",
       "       'Dec-1989', 'Oct-1992', 'Feb-2005', 'Apr-1993', 'Dec-1985',\n",
       "       'Sep-1979', 'Feb-2007', 'Nov-1989', 'Apr-2005', 'Mar-1978',\n",
       "       'Sep-1985', 'Nov-1994', 'Jun-2008', 'Apr-1987', 'Dec-1983',\n",
       "       'Dec-2007', 'May-1979', 'May-1992', 'Jul-1990', 'Mar-1995',\n",
       "       'Feb-2006', 'Feb-1985', 'Sep-1989', 'Aug-2009', 'Nov-2008',\n",
       "       'Nov-1981', 'Jan-2008', 'Aug-1987', 'Nov-1985', 'Dec-1965',\n",
       "       'Sep-1995', 'Jan-1986', 'Oct-2009', 'May-2002', 'Aug-1980',\n",
       "       'Sep-1977', 'Sep-1988', 'Oct-1984', 'May-1988', 'Aug-1984',\n",
       "       'Nov-1988', 'May-1974', 'Nov-1982', 'Oct-1983', 'Sep-1991',\n",
       "       'Feb-1984', 'Feb-1991', 'Jan-1981', 'Jun-1985', 'Dec-1976',\n",
       "       'Dec-1994', 'Dec-1980', 'Sep-1984', 'Jun-2007', 'Aug-1979',\n",
       "       'Sep-2008', 'Apr-1983', 'Mar-2006', 'Jun-1984', 'Jul-1984',\n",
       "       'Jan-1985', 'Dec-1995', 'Apr-2008', 'Mar-2008', 'Jan-1983',\n",
       "       'Dec-1986', 'Jun-1979', 'Dec-1975', 'Jul-1986', 'Nov-1977',\n",
       "       'Dec-1982', 'May-1985', 'Feb-1983', 'Aug-1982', 'Oct-1980',\n",
       "       'Mar-1979', 'Jan-1978', 'Mar-1984', 'Nov-1983', 'May-1983',\n",
       "       'Jul-2008', 'Apr-1982', 'Jul-1983', 'Feb-1990', 'Dec-2008',\n",
       "       'Jul-1975', 'Dec-1971', 'Feb-2008', 'Mar-2011', 'Feb-1987',\n",
       "       'Feb-1989', 'Aug-1985', 'Jul-2010', 'Apr-1989', 'Feb-1980',\n",
       "       'May-2006', 'Nov-2010', 'Apr-2009', 'Feb-2010', 'May-1976',\n",
       "       'Feb-1981', 'Jan-2012', 'Oct-1988', 'Nov-1984', 'May-1982',\n",
       "       'Oct-1975', 'Jun-1988', 'May-1972', 'Apr-2013', 'Sep-1990',\n",
       "       'Oct-1982', 'Feb-2013', 'Mar-1992', 'Aug-1981', 'Feb-2011',\n",
       "       'Nov-1974', 'Feb-1978', 'Sep-1983', 'Jul-2011', 'Nov-1979',\n",
       "       'Aug-1983', 'Apr-1985', 'Jul-2009', 'Jan-1971', 'Jul-1987',\n",
       "       'Aug-1978', 'Aug-2010', 'Oct-1976', 'Aug-1986', 'Jan-1991',\n",
       "       'Dec-1991', 'May-2009', 'Aug-2011', 'Jun-1964', 'Jan-1974',\n",
       "       'May-1981', 'Jun-1972', 'Jun-1978', 'Sep-1986', 'Jan-1987',\n",
       "       'Jan-1975', 'Feb-1982', 'Jan-1980', 'Feb-1977', 'Sep-1980',\n",
       "       'Nov-1978', 'Jul-1974', 'Jun-1970', 'Jan-1984', 'Nov-1980',\n",
       "       'May-1987', 'Sep-1970', 'Jan-1976', 'Feb-1986', 'Oct-2010',\n",
       "       'Apr-1979', 'Oct-1979', 'Jan-1979', 'Sep-2011', 'Jul-1979',\n",
       "       'Sep-1975', 'Mar-1981', 'Aug-1971', 'Apr-1980', 'Apr-1977',\n",
       "       'Jan-1965', 'Nov-1976', 'Nov-1970', 'Nov-2011', 'Nov-1973',\n",
       "       'Sep-1981', 'Jul-1980', 'Mar-2012', 'Dec-1974', 'Mar-1977',\n",
       "       'Dec-1977', 'May-2012', 'Dec-1979', 'Jan-2009', 'Jan-1970',\n",
       "       'Dec-2011', 'Feb-1979', 'Mar-1976', 'Jan-1973', 'Oct-1973',\n",
       "       'Mar-1969', 'Oct-1977', 'Mar-1975', 'Aug-1977', 'Jun-1969',\n",
       "       'Oct-1963', 'Nov-1960', 'Aug-1970', 'Feb-1975', 'Sep-1974',\n",
       "       'May-1966', 'Apr-1972', 'Apr-1973', 'Apr-2012', 'May-1975',\n",
       "       'Sep-1966', 'Feb-1969', 'Feb-2012', 'Jan-1961', 'Aug-1973',\n",
       "       'Feb-1972', 'Apr-1975', 'Jul-1978', 'Oct-1970', 'Mar-1980',\n",
       "       'Sep-1976', 'Apr-2011', 'Nov-2012', 'Aug-1976', 'Jun-1975',\n",
       "       'Apr-1981', 'Mar-2009', 'Jun-1977', 'Apr-1971', 'Sep-1969',\n",
       "       'Jun-2012', 'Apr-1976', 'Feb-1965', 'Jul-1977', 'Jun-1976',\n",
       "       'Mar-1973', 'Oct-1972', 'Dec-1978', 'Nov-1967', 'Sep-1967',\n",
       "       'Nov-1971', 'Jun-1980', 'May-1964', 'Feb-1971', 'May-1970',\n",
       "       'Apr-1970', 'Mar-1971', 'Apr-1969', 'Jan-1963', 'Jun-1974',\n",
       "       'Oct-1974', 'May-1977', 'Dec-1981', 'Jan-1969', 'Feb-1976',\n",
       "       'Mar-1970', 'Aug-1968', 'Feb-1970', 'Jun-1971', 'Jun-1963',\n",
       "       'Jun-2013', 'Mar-1972', 'Aug-2012', 'Jan-1967', 'Feb-1968',\n",
       "       'Dec-1969', 'Jan-1977', 'Jul-1970', 'Feb-1973', 'Mar-1974',\n",
       "       'Feb-1974', 'Dec-1960', 'Jul-1972', 'Jul-1973', 'Sep-1964',\n",
       "       'Jul-1965', 'Oct-1958', 'Jul-2012', 'Jun-1973', 'Sep-1978',\n",
       "       'Nov-1975', 'Jul-1963', 'Jan-1964', 'Dec-1968', 'May-1958',\n",
       "       'Sep-1973', 'May-1971', 'Dec-1972', 'Aug-1965', 'Jul-1976',\n",
       "       'Oct-2012', 'May-1973', 'Apr-1955', 'Apr-1966', 'Jan-1968',\n",
       "       'Nov-1968', 'Oct-1969', 'Mar-2013', 'Jan-2013', 'Jul-1967',\n",
       "       'Oct-1965', 'Jan-1966', 'Aug-1972', 'Jul-1969', 'May-1965',\n",
       "       'Jan-1953', 'Aug-1974', 'May-1968', 'Aug-1969', 'May-2013',\n",
       "       'Oct-1967', 'Aug-1975', 'Apr-1974', 'Sep-1971', 'Apr-1968',\n",
       "       'Jul-1971', 'Jan-1972', 'Nov-1965', 'Dec-1970', 'Dec-1973',\n",
       "       'Nov-1972', 'Oct-1959', 'Oct-1962', 'Apr-1967', 'Oct-1971',\n",
       "       'Nov-1963', 'Oct-1968', 'Dec-1962', 'Jun-1960', 'Jan-1960',\n",
       "       'Sep-2013', 'May-1969', 'Dec-1966', 'Feb-1967', 'Dec-1967',\n",
       "       'Aug-1961', 'Sep-1968', 'Oct-1964', 'Aug-1966', 'Jul-1966',\n",
       "       'Apr-1964', 'Sep-1962', 'Jul-2013', 'Jun-1967', 'Apr-1965',\n",
       "       'Jun-1966', 'Jan-1955', 'Jan-1962', 'Feb-1964', 'Aug-1958',\n",
       "       'Jul-1968', 'May-1967', 'Dec-1959', 'Sep-1963', 'Dec-2012',\n",
       "       'Dec-1963', 'Jan-1944', 'Jun-1965', 'May-1962', 'Mar-1967',\n",
       "       'Mar-1968', 'Jan-1956', 'Sep-1965', 'Dec-1951', 'Aug-2013',\n",
       "       'Jun-1968', 'Mar-1965', 'Oct-1957', 'Nov-1966', 'Dec-1958',\n",
       "       'Feb-1957', 'Feb-1963', 'Mar-1963', 'Jan-1959', 'May-1955',\n",
       "       'Feb-1966', 'Nov-1950', 'Mar-1964', 'Jan-1958', 'Nov-1964',\n",
       "       'Sep-1961', 'Apr-1963', 'Jul-1964', 'Nov-1955', 'Jun-1957',\n",
       "       'Dec-1964', 'Nov-1953', 'Apr-1961', 'Mar-1966', 'Oct-1960',\n",
       "       'Jul-1959', 'Jul-1961', 'Jan-1954', 'Dec-1956', 'Mar-1962',\n",
       "       'Jul-1960', 'Sep-1959', 'Dec-1950', 'Oct-1966', 'Apr-1960',\n",
       "       'Jul-1958', 'Nov-1954', 'Nov-1957', 'Jun-1962', 'May-1963',\n",
       "       'Jul-1955', 'Oct-1950', 'Dec-1961', 'Aug-1951', 'Oct-2013',\n",
       "       'Aug-1964', 'Apr-1962', 'Jun-1955', 'Jul-1962', 'Jan-1957',\n",
       "       'Nov-1958', 'Jul-1951', 'Nov-1959', 'Apr-1958', 'Mar-1960',\n",
       "       'Sep-1957', 'Nov-1961', 'Sep-1960', 'May-1959', 'Jun-1959',\n",
       "       'Feb-1962', 'Sep-1956', 'Aug-1960', 'Feb-1961', 'Jan-1948',\n",
       "       'Aug-1963', 'Oct-1961', 'Aug-1962', 'Aug-1959'], dtype=object)"
      ]
     },
     "execution_count": 281,
     "metadata": {},
     "output_type": "execute_result"
    }
   ],
   "source": [
    "loan['earliest_cr_line'].unique()"
   ]
  },
  {
   "cell_type": "code",
   "execution_count": 282,
   "id": "fc5539b7",
   "metadata": {},
   "outputs": [
    {
     "data": {
      "text/plain": [
       "array(['w', 'f'], dtype=object)"
      ]
     },
     "execution_count": 282,
     "metadata": {},
     "output_type": "execute_result"
    }
   ],
   "source": [
    "loan['initial_list_status'].unique()"
   ]
  },
  {
   "cell_type": "code",
   "execution_count": 283,
   "id": "172e858b",
   "metadata": {},
   "outputs": [
    {
     "data": {
      "text/plain": [
       "array(['INDIVIDUAL', 'JOINT', 'DIRECT_PAY'], dtype=object)"
      ]
     },
     "execution_count": 283,
     "metadata": {},
     "output_type": "execute_result"
    }
   ],
   "source": [
    "loan['application_type'].unique()"
   ]
  },
  {
   "cell_type": "code",
   "execution_count": 284,
   "id": "415abfab",
   "metadata": {},
   "outputs": [],
   "source": [
    "loan.drop(columns=['grade'], axis=1, inplace=True)"
   ]
  },
  {
   "cell_type": "code",
   "execution_count": 285,
   "id": "e8273bea",
   "metadata": {},
   "outputs": [
    {
     "data": {
      "text/html": [
       "<div>\n",
       "<style scoped>\n",
       "    .dataframe tbody tr th:only-of-type {\n",
       "        vertical-align: middle;\n",
       "    }\n",
       "\n",
       "    .dataframe tbody tr th {\n",
       "        vertical-align: top;\n",
       "    }\n",
       "\n",
       "    .dataframe thead th {\n",
       "        text-align: right;\n",
       "    }\n",
       "</style>\n",
       "<table border=\"1\" class=\"dataframe\">\n",
       "  <thead>\n",
       "    <tr style=\"text-align: right;\">\n",
       "      <th></th>\n",
       "      <th>loan_amnt</th>\n",
       "      <th>term</th>\n",
       "      <th>int_rate</th>\n",
       "      <th>installment</th>\n",
       "      <th>home_ownership</th>\n",
       "      <th>annual_inc</th>\n",
       "      <th>verification_status</th>\n",
       "      <th>issue_d</th>\n",
       "      <th>loan_status</th>\n",
       "      <th>purpose</th>\n",
       "      <th>...</th>\n",
       "      <th>sub_grade_F1</th>\n",
       "      <th>sub_grade_F2</th>\n",
       "      <th>sub_grade_F3</th>\n",
       "      <th>sub_grade_F4</th>\n",
       "      <th>sub_grade_F5</th>\n",
       "      <th>sub_grade_G1</th>\n",
       "      <th>sub_grade_G2</th>\n",
       "      <th>sub_grade_G3</th>\n",
       "      <th>sub_grade_G4</th>\n",
       "      <th>sub_grade_G5</th>\n",
       "    </tr>\n",
       "  </thead>\n",
       "  <tbody>\n",
       "    <tr>\n",
       "      <th>0</th>\n",
       "      <td>10000.0</td>\n",
       "      <td>36</td>\n",
       "      <td>11.44</td>\n",
       "      <td>329.48</td>\n",
       "      <td>RENT</td>\n",
       "      <td>117000.0</td>\n",
       "      <td>Not Verified</td>\n",
       "      <td>Jan-2015</td>\n",
       "      <td>Fully Paid</td>\n",
       "      <td>vacation</td>\n",
       "      <td>...</td>\n",
       "      <td>0</td>\n",
       "      <td>0</td>\n",
       "      <td>0</td>\n",
       "      <td>0</td>\n",
       "      <td>0</td>\n",
       "      <td>0</td>\n",
       "      <td>0</td>\n",
       "      <td>0</td>\n",
       "      <td>0</td>\n",
       "      <td>0</td>\n",
       "    </tr>\n",
       "    <tr>\n",
       "      <th>1</th>\n",
       "      <td>8000.0</td>\n",
       "      <td>36</td>\n",
       "      <td>11.99</td>\n",
       "      <td>265.68</td>\n",
       "      <td>MORTGAGE</td>\n",
       "      <td>65000.0</td>\n",
       "      <td>Not Verified</td>\n",
       "      <td>Jan-2015</td>\n",
       "      <td>Fully Paid</td>\n",
       "      <td>debt_consolidation</td>\n",
       "      <td>...</td>\n",
       "      <td>0</td>\n",
       "      <td>0</td>\n",
       "      <td>0</td>\n",
       "      <td>0</td>\n",
       "      <td>0</td>\n",
       "      <td>0</td>\n",
       "      <td>0</td>\n",
       "      <td>0</td>\n",
       "      <td>0</td>\n",
       "      <td>0</td>\n",
       "    </tr>\n",
       "    <tr>\n",
       "      <th>2</th>\n",
       "      <td>15600.0</td>\n",
       "      <td>36</td>\n",
       "      <td>10.49</td>\n",
       "      <td>506.97</td>\n",
       "      <td>RENT</td>\n",
       "      <td>43057.0</td>\n",
       "      <td>Source Verified</td>\n",
       "      <td>Jan-2015</td>\n",
       "      <td>Fully Paid</td>\n",
       "      <td>credit_card</td>\n",
       "      <td>...</td>\n",
       "      <td>0</td>\n",
       "      <td>0</td>\n",
       "      <td>0</td>\n",
       "      <td>0</td>\n",
       "      <td>0</td>\n",
       "      <td>0</td>\n",
       "      <td>0</td>\n",
       "      <td>0</td>\n",
       "      <td>0</td>\n",
       "      <td>0</td>\n",
       "    </tr>\n",
       "    <tr>\n",
       "      <th>3</th>\n",
       "      <td>7200.0</td>\n",
       "      <td>36</td>\n",
       "      <td>6.49</td>\n",
       "      <td>220.65</td>\n",
       "      <td>RENT</td>\n",
       "      <td>54000.0</td>\n",
       "      <td>Not Verified</td>\n",
       "      <td>Nov-2014</td>\n",
       "      <td>Fully Paid</td>\n",
       "      <td>credit_card</td>\n",
       "      <td>...</td>\n",
       "      <td>0</td>\n",
       "      <td>0</td>\n",
       "      <td>0</td>\n",
       "      <td>0</td>\n",
       "      <td>0</td>\n",
       "      <td>0</td>\n",
       "      <td>0</td>\n",
       "      <td>0</td>\n",
       "      <td>0</td>\n",
       "      <td>0</td>\n",
       "    </tr>\n",
       "    <tr>\n",
       "      <th>4</th>\n",
       "      <td>24375.0</td>\n",
       "      <td>60</td>\n",
       "      <td>17.27</td>\n",
       "      <td>609.33</td>\n",
       "      <td>MORTGAGE</td>\n",
       "      <td>55000.0</td>\n",
       "      <td>Verified</td>\n",
       "      <td>Apr-2013</td>\n",
       "      <td>Charged Off</td>\n",
       "      <td>credit_card</td>\n",
       "      <td>...</td>\n",
       "      <td>0</td>\n",
       "      <td>0</td>\n",
       "      <td>0</td>\n",
       "      <td>0</td>\n",
       "      <td>0</td>\n",
       "      <td>0</td>\n",
       "      <td>0</td>\n",
       "      <td>0</td>\n",
       "      <td>0</td>\n",
       "      <td>0</td>\n",
       "    </tr>\n",
       "    <tr>\n",
       "      <th>...</th>\n",
       "      <td>...</td>\n",
       "      <td>...</td>\n",
       "      <td>...</td>\n",
       "      <td>...</td>\n",
       "      <td>...</td>\n",
       "      <td>...</td>\n",
       "      <td>...</td>\n",
       "      <td>...</td>\n",
       "      <td>...</td>\n",
       "      <td>...</td>\n",
       "      <td>...</td>\n",
       "      <td>...</td>\n",
       "      <td>...</td>\n",
       "      <td>...</td>\n",
       "      <td>...</td>\n",
       "      <td>...</td>\n",
       "      <td>...</td>\n",
       "      <td>...</td>\n",
       "      <td>...</td>\n",
       "      <td>...</td>\n",
       "      <td>...</td>\n",
       "    </tr>\n",
       "    <tr>\n",
       "      <th>396025</th>\n",
       "      <td>10000.0</td>\n",
       "      <td>60</td>\n",
       "      <td>10.99</td>\n",
       "      <td>217.38</td>\n",
       "      <td>RENT</td>\n",
       "      <td>40000.0</td>\n",
       "      <td>Source Verified</td>\n",
       "      <td>Oct-2015</td>\n",
       "      <td>Fully Paid</td>\n",
       "      <td>debt_consolidation</td>\n",
       "      <td>...</td>\n",
       "      <td>0</td>\n",
       "      <td>0</td>\n",
       "      <td>0</td>\n",
       "      <td>0</td>\n",
       "      <td>0</td>\n",
       "      <td>0</td>\n",
       "      <td>0</td>\n",
       "      <td>0</td>\n",
       "      <td>0</td>\n",
       "      <td>0</td>\n",
       "    </tr>\n",
       "    <tr>\n",
       "      <th>396026</th>\n",
       "      <td>21000.0</td>\n",
       "      <td>36</td>\n",
       "      <td>12.29</td>\n",
       "      <td>700.42</td>\n",
       "      <td>MORTGAGE</td>\n",
       "      <td>110000.0</td>\n",
       "      <td>Source Verified</td>\n",
       "      <td>Feb-2015</td>\n",
       "      <td>Fully Paid</td>\n",
       "      <td>debt_consolidation</td>\n",
       "      <td>...</td>\n",
       "      <td>0</td>\n",
       "      <td>0</td>\n",
       "      <td>0</td>\n",
       "      <td>0</td>\n",
       "      <td>0</td>\n",
       "      <td>0</td>\n",
       "      <td>0</td>\n",
       "      <td>0</td>\n",
       "      <td>0</td>\n",
       "      <td>0</td>\n",
       "    </tr>\n",
       "    <tr>\n",
       "      <th>396027</th>\n",
       "      <td>5000.0</td>\n",
       "      <td>36</td>\n",
       "      <td>9.99</td>\n",
       "      <td>161.32</td>\n",
       "      <td>RENT</td>\n",
       "      <td>56500.0</td>\n",
       "      <td>Verified</td>\n",
       "      <td>Oct-2013</td>\n",
       "      <td>Fully Paid</td>\n",
       "      <td>debt_consolidation</td>\n",
       "      <td>...</td>\n",
       "      <td>0</td>\n",
       "      <td>0</td>\n",
       "      <td>0</td>\n",
       "      <td>0</td>\n",
       "      <td>0</td>\n",
       "      <td>0</td>\n",
       "      <td>0</td>\n",
       "      <td>0</td>\n",
       "      <td>0</td>\n",
       "      <td>0</td>\n",
       "    </tr>\n",
       "    <tr>\n",
       "      <th>396028</th>\n",
       "      <td>21000.0</td>\n",
       "      <td>60</td>\n",
       "      <td>15.31</td>\n",
       "      <td>503.02</td>\n",
       "      <td>MORTGAGE</td>\n",
       "      <td>64000.0</td>\n",
       "      <td>Verified</td>\n",
       "      <td>Aug-2012</td>\n",
       "      <td>Fully Paid</td>\n",
       "      <td>debt_consolidation</td>\n",
       "      <td>...</td>\n",
       "      <td>0</td>\n",
       "      <td>0</td>\n",
       "      <td>0</td>\n",
       "      <td>0</td>\n",
       "      <td>0</td>\n",
       "      <td>0</td>\n",
       "      <td>0</td>\n",
       "      <td>0</td>\n",
       "      <td>0</td>\n",
       "      <td>0</td>\n",
       "    </tr>\n",
       "    <tr>\n",
       "      <th>396029</th>\n",
       "      <td>2000.0</td>\n",
       "      <td>36</td>\n",
       "      <td>13.61</td>\n",
       "      <td>67.98</td>\n",
       "      <td>RENT</td>\n",
       "      <td>42996.0</td>\n",
       "      <td>Verified</td>\n",
       "      <td>Jun-2010</td>\n",
       "      <td>Fully Paid</td>\n",
       "      <td>debt_consolidation</td>\n",
       "      <td>...</td>\n",
       "      <td>0</td>\n",
       "      <td>0</td>\n",
       "      <td>0</td>\n",
       "      <td>0</td>\n",
       "      <td>0</td>\n",
       "      <td>0</td>\n",
       "      <td>0</td>\n",
       "      <td>0</td>\n",
       "      <td>0</td>\n",
       "      <td>0</td>\n",
       "    </tr>\n",
       "  </tbody>\n",
       "</table>\n",
       "<p>395219 rows × 57 columns</p>\n",
       "</div>"
      ],
      "text/plain": [
       "        loan_amnt  term  int_rate  installment home_ownership  annual_inc  \\\n",
       "0         10000.0    36     11.44       329.48           RENT    117000.0   \n",
       "1          8000.0    36     11.99       265.68       MORTGAGE     65000.0   \n",
       "2         15600.0    36     10.49       506.97           RENT     43057.0   \n",
       "3          7200.0    36      6.49       220.65           RENT     54000.0   \n",
       "4         24375.0    60     17.27       609.33       MORTGAGE     55000.0   \n",
       "...           ...   ...       ...          ...            ...         ...   \n",
       "396025    10000.0    60     10.99       217.38           RENT     40000.0   \n",
       "396026    21000.0    36     12.29       700.42       MORTGAGE    110000.0   \n",
       "396027     5000.0    36      9.99       161.32           RENT     56500.0   \n",
       "396028    21000.0    60     15.31       503.02       MORTGAGE     64000.0   \n",
       "396029     2000.0    36     13.61        67.98           RENT     42996.0   \n",
       "\n",
       "       verification_status   issue_d  loan_status             purpose  ...  \\\n",
       "0             Not Verified  Jan-2015   Fully Paid            vacation  ...   \n",
       "1             Not Verified  Jan-2015   Fully Paid  debt_consolidation  ...   \n",
       "2          Source Verified  Jan-2015   Fully Paid         credit_card  ...   \n",
       "3             Not Verified  Nov-2014   Fully Paid         credit_card  ...   \n",
       "4                 Verified  Apr-2013  Charged Off         credit_card  ...   \n",
       "...                    ...       ...          ...                 ...  ...   \n",
       "396025     Source Verified  Oct-2015   Fully Paid  debt_consolidation  ...   \n",
       "396026     Source Verified  Feb-2015   Fully Paid  debt_consolidation  ...   \n",
       "396027            Verified  Oct-2013   Fully Paid  debt_consolidation  ...   \n",
       "396028            Verified  Aug-2012   Fully Paid  debt_consolidation  ...   \n",
       "396029            Verified  Jun-2010   Fully Paid  debt_consolidation  ...   \n",
       "\n",
       "        sub_grade_F1 sub_grade_F2  sub_grade_F3  sub_grade_F4  sub_grade_F5  \\\n",
       "0                  0            0             0             0             0   \n",
       "1                  0            0             0             0             0   \n",
       "2                  0            0             0             0             0   \n",
       "3                  0            0             0             0             0   \n",
       "4                  0            0             0             0             0   \n",
       "...              ...          ...           ...           ...           ...   \n",
       "396025             0            0             0             0             0   \n",
       "396026             0            0             0             0             0   \n",
       "396027             0            0             0             0             0   \n",
       "396028             0            0             0             0             0   \n",
       "396029             0            0             0             0             0   \n",
       "\n",
       "        sub_grade_G1  sub_grade_G2 sub_grade_G3 sub_grade_G4  sub_grade_G5  \n",
       "0                  0             0            0            0             0  \n",
       "1                  0             0            0            0             0  \n",
       "2                  0             0            0            0             0  \n",
       "3                  0             0            0            0             0  \n",
       "4                  0             0            0            0             0  \n",
       "...              ...           ...          ...          ...           ...  \n",
       "396025             0             0            0            0             0  \n",
       "396026             0             0            0            0             0  \n",
       "396027             0             0            0            0             0  \n",
       "396028             0             0            0            0             0  \n",
       "396029             0             0            0            0             0  \n",
       "\n",
       "[395219 rows x 57 columns]"
      ]
     },
     "execution_count": 285,
     "metadata": {},
     "output_type": "execute_result"
    }
   ],
   "source": [
    "pd.get_dummies(data=loan, columns=['sub_grade'], drop_first=True)"
   ]
  },
  {
   "cell_type": "code",
   "execution_count": 286,
   "id": "5ca88e60",
   "metadata": {},
   "outputs": [
    {
     "data": {
      "text/html": [
       "<div>\n",
       "<style scoped>\n",
       "    .dataframe tbody tr th:only-of-type {\n",
       "        vertical-align: middle;\n",
       "    }\n",
       "\n",
       "    .dataframe tbody tr th {\n",
       "        vertical-align: top;\n",
       "    }\n",
       "\n",
       "    .dataframe thead th {\n",
       "        text-align: right;\n",
       "    }\n",
       "</style>\n",
       "<table border=\"1\" class=\"dataframe\">\n",
       "  <thead>\n",
       "    <tr style=\"text-align: right;\">\n",
       "      <th></th>\n",
       "      <th>A</th>\n",
       "      <th>B</th>\n",
       "      <th>C</th>\n",
       "    </tr>\n",
       "  </thead>\n",
       "  <tbody>\n",
       "    <tr>\n",
       "      <th>0</th>\n",
       "      <td>a</td>\n",
       "      <td>c</td>\n",
       "      <td>1</td>\n",
       "    </tr>\n",
       "    <tr>\n",
       "      <th>1</th>\n",
       "      <td>b</td>\n",
       "      <td>c</td>\n",
       "      <td>2</td>\n",
       "    </tr>\n",
       "    <tr>\n",
       "      <th>2</th>\n",
       "      <td>c</td>\n",
       "      <td>b</td>\n",
       "      <td>3</td>\n",
       "    </tr>\n",
       "  </tbody>\n",
       "</table>\n",
       "</div>"
      ],
      "text/plain": [
       "   A  B  C\n",
       "0  a  c  1\n",
       "1  b  c  2\n",
       "2  c  b  3"
      ]
     },
     "execution_count": 286,
     "metadata": {},
     "output_type": "execute_result"
    }
   ],
   "source": [
    "fun = pd.DataFrame({'A':['a','b','c'],'B':['c','c','b'],'C':[1,2,3]})\n",
    "fun"
   ]
  },
  {
   "cell_type": "code",
   "execution_count": 287,
   "id": "234cb754",
   "metadata": {
    "scrolled": true
   },
   "outputs": [
    {
     "data": {
      "text/html": [
       "<div>\n",
       "<style scoped>\n",
       "    .dataframe tbody tr th:only-of-type {\n",
       "        vertical-align: middle;\n",
       "    }\n",
       "\n",
       "    .dataframe tbody tr th {\n",
       "        vertical-align: top;\n",
       "    }\n",
       "\n",
       "    .dataframe thead th {\n",
       "        text-align: right;\n",
       "    }\n",
       "</style>\n",
       "<table border=\"1\" class=\"dataframe\">\n",
       "  <thead>\n",
       "    <tr style=\"text-align: right;\">\n",
       "      <th></th>\n",
       "      <th>C</th>\n",
       "      <th>A_b</th>\n",
       "      <th>A_c</th>\n",
       "      <th>B_c</th>\n",
       "    </tr>\n",
       "  </thead>\n",
       "  <tbody>\n",
       "    <tr>\n",
       "      <th>0</th>\n",
       "      <td>1</td>\n",
       "      <td>0</td>\n",
       "      <td>0</td>\n",
       "      <td>1</td>\n",
       "    </tr>\n",
       "    <tr>\n",
       "      <th>1</th>\n",
       "      <td>2</td>\n",
       "      <td>1</td>\n",
       "      <td>0</td>\n",
       "      <td>1</td>\n",
       "    </tr>\n",
       "    <tr>\n",
       "      <th>2</th>\n",
       "      <td>3</td>\n",
       "      <td>0</td>\n",
       "      <td>1</td>\n",
       "      <td>0</td>\n",
       "    </tr>\n",
       "  </tbody>\n",
       "</table>\n",
       "</div>"
      ],
      "text/plain": [
       "   C  A_b  A_c  B_c\n",
       "0  1    0    0    1\n",
       "1  2    1    0    1\n",
       "2  3    0    1    0"
      ]
     },
     "execution_count": 287,
     "metadata": {},
     "output_type": "execute_result"
    }
   ],
   "source": [
    "pd.get_dummies(data=fun, columns=['A', 'B'], drop_first=True)"
   ]
  },
  {
   "cell_type": "markdown",
   "id": "f42a69d9",
   "metadata": {},
   "source": [
    "Converting categorical features to dummy variables so as to fit ML models"
   ]
  },
  {
   "cell_type": "code",
   "execution_count": 288,
   "id": "f2ebf18b",
   "metadata": {},
   "outputs": [],
   "source": [
    "loan = pd.get_dummies(data=loan, columns=['sub_grade','verification_status', 'application_type','initial_list_status','purpose'], drop_first=True)"
   ]
  },
  {
   "cell_type": "code",
   "execution_count": 289,
   "id": "2209779f",
   "metadata": {},
   "outputs": [
    {
     "data": {
      "text/plain": [
       "Index(['home_ownership', 'issue_d', 'loan_status', 'earliest_cr_line',\n",
       "       'address'],\n",
       "      dtype='object')"
      ]
     },
     "execution_count": 289,
     "metadata": {},
     "output_type": "execute_result"
    }
   ],
   "source": [
    "loan.select_dtypes(include='object').columns"
   ]
  },
  {
   "cell_type": "code",
   "execution_count": 290,
   "id": "9a43bec1",
   "metadata": {},
   "outputs": [
    {
     "data": {
      "text/plain": [
       "MORTGAGE    198022\n",
       "RENT        159395\n",
       "OWN          37660\n",
       "OTHER          110\n",
       "NONE            29\n",
       "ANY              3\n",
       "Name: home_ownership, dtype: int64"
      ]
     },
     "execution_count": 290,
     "metadata": {},
     "output_type": "execute_result"
    }
   ],
   "source": [
    "loan['home_ownership'].value_counts()"
   ]
  },
  {
   "cell_type": "markdown",
   "id": "8190d5df",
   "metadata": {},
   "source": [
    "Merging the category 'None' and 'Any' with 'Other'"
   ]
  },
  {
   "cell_type": "code",
   "execution_count": 293,
   "id": "ba8b5fb4",
   "metadata": {},
   "outputs": [],
   "source": [
    "def home_own(home_owne):\n",
    "    if home_owne not in ['NONE','ANY']:\n",
    "        return home_owne\n",
    "    elif home_owne == 'NONE':\n",
    "        return 'OTHER'\n",
    "    elif home_owne == 'ANY':\n",
    "        return 'OTHER'"
   ]
  },
  {
   "cell_type": "code",
   "execution_count": 295,
   "id": "678e817d",
   "metadata": {},
   "outputs": [],
   "source": [
    "loan['home_ownership'] = loan['home_ownership'].apply(lambda x: home_own(x))"
   ]
  },
  {
   "cell_type": "code",
   "execution_count": 296,
   "id": "f3c6b106",
   "metadata": {},
   "outputs": [
    {
     "data": {
      "text/plain": [
       "MORTGAGE    198022\n",
       "RENT        159395\n",
       "OWN          37660\n",
       "OTHER          142\n",
       "Name: home_ownership, dtype: int64"
      ]
     },
     "execution_count": 296,
     "metadata": {},
     "output_type": "execute_result"
    }
   ],
   "source": [
    "loan['home_ownership'].value_counts()"
   ]
  },
  {
   "cell_type": "code",
   "execution_count": 301,
   "id": "abe55b79",
   "metadata": {},
   "outputs": [],
   "source": [
    "loan = pd.get_dummies(data=loan,columns=['home_ownership'], drop_first=True)"
   ]
  },
  {
   "cell_type": "code",
   "execution_count": 307,
   "id": "c4dc1227",
   "metadata": {},
   "outputs": [
    {
     "data": {
      "text/plain": [
       "'22690'"
      ]
     },
     "execution_count": 307,
     "metadata": {},
     "output_type": "execute_result"
    }
   ],
   "source": [
    "loan['address'][0].split()[-1]"
   ]
  },
  {
   "cell_type": "markdown",
   "id": "60e71e92",
   "metadata": {},
   "source": [
    "Extracting zipcode alone from address to discard it"
   ]
  },
  {
   "cell_type": "code",
   "execution_count": 308,
   "id": "bdaf21eb",
   "metadata": {},
   "outputs": [],
   "source": [
    "loan['zipcode'] = loan['address'].apply(lambda x: x.split()[-1])"
   ]
  },
  {
   "cell_type": "code",
   "execution_count": 310,
   "id": "8071bad1",
   "metadata": {},
   "outputs": [
    {
     "data": {
      "text/plain": [
       "10"
      ]
     },
     "execution_count": 310,
     "metadata": {},
     "output_type": "execute_result"
    }
   ],
   "source": [
    "loan['zipcode'].nunique()"
   ]
  },
  {
   "cell_type": "code",
   "execution_count": 312,
   "id": "cbc9bc97",
   "metadata": {},
   "outputs": [],
   "source": [
    "loan = pd.get_dummies(data=loan,columns=['zipcode'], drop_first=True)"
   ]
  },
  {
   "cell_type": "code",
   "execution_count": 313,
   "id": "ea911c21",
   "metadata": {},
   "outputs": [],
   "source": [
    "loan.drop(columns=['issue_d'], axis=1, inplace=True)"
   ]
  },
  {
   "cell_type": "code",
   "execution_count": 319,
   "id": "00137199",
   "metadata": {},
   "outputs": [
    {
     "data": {
      "text/plain": [
       "'1990'"
      ]
     },
     "execution_count": 319,
     "metadata": {},
     "output_type": "execute_result"
    }
   ],
   "source": [
    "loan['earliest_cr_line'][0].split(sep='-')[-1]"
   ]
  },
  {
   "cell_type": "markdown",
   "id": "21446048",
   "metadata": {},
   "source": [
    "Extracting only the year to have it as a feature from 'earliest_cr_line'"
   ]
  },
  {
   "cell_type": "code",
   "execution_count": 320,
   "id": "b6711c12",
   "metadata": {},
   "outputs": [],
   "source": [
    "loan['earliest_cr_year'] = loan['earliest_cr_line'].apply(lambda x: x.split(sep='-')[-1])"
   ]
  },
  {
   "cell_type": "code",
   "execution_count": 322,
   "id": "8ea54c04",
   "metadata": {},
   "outputs": [
    {
     "data": {
      "text/plain": [
       "str"
      ]
     },
     "execution_count": 322,
     "metadata": {},
     "output_type": "execute_result"
    }
   ],
   "source": [
    "type(loan['earliest_cr_year'][0])"
   ]
  },
  {
   "cell_type": "markdown",
   "id": "9e5496f9",
   "metadata": {},
   "source": [
    "Converting the data type of 'earliest_cr_year'to numeric"
   ]
  },
  {
   "cell_type": "code",
   "execution_count": 323,
   "id": "b7a61b57",
   "metadata": {},
   "outputs": [],
   "source": [
    "loan['earliest_cr_year'] = loan['earliest_cr_year'].apply(pd.to_numeric)"
   ]
  },
  {
   "cell_type": "code",
   "execution_count": 324,
   "id": "10584786",
   "metadata": {},
   "outputs": [
    {
     "data": {
      "text/plain": [
       "numpy.int64"
      ]
     },
     "execution_count": 324,
     "metadata": {},
     "output_type": "execute_result"
    }
   ],
   "source": [
    "type(loan['earliest_cr_year'][0])"
   ]
  },
  {
   "cell_type": "code",
   "execution_count": 325,
   "id": "49a0cee1",
   "metadata": {},
   "outputs": [],
   "source": [
    "loan.drop(columns=['earliest_cr_line'], axis=1, inplace=True)"
   ]
  },
  {
   "cell_type": "code",
   "execution_count": 326,
   "id": "fe0ae616",
   "metadata": {},
   "outputs": [
    {
     "data": {
      "text/html": [
       "<div>\n",
       "<style scoped>\n",
       "    .dataframe tbody tr th:only-of-type {\n",
       "        vertical-align: middle;\n",
       "    }\n",
       "\n",
       "    .dataframe tbody tr th {\n",
       "        vertical-align: top;\n",
       "    }\n",
       "\n",
       "    .dataframe thead th {\n",
       "        text-align: right;\n",
       "    }\n",
       "</style>\n",
       "<table border=\"1\" class=\"dataframe\">\n",
       "  <thead>\n",
       "    <tr style=\"text-align: right;\">\n",
       "      <th></th>\n",
       "      <th>loan_amnt</th>\n",
       "      <th>term</th>\n",
       "      <th>int_rate</th>\n",
       "      <th>installment</th>\n",
       "      <th>annual_inc</th>\n",
       "      <th>loan_status</th>\n",
       "      <th>dti</th>\n",
       "      <th>open_acc</th>\n",
       "      <th>pub_rec</th>\n",
       "      <th>revol_bal</th>\n",
       "      <th>...</th>\n",
       "      <th>zipcode_05113</th>\n",
       "      <th>zipcode_11650</th>\n",
       "      <th>zipcode_22690</th>\n",
       "      <th>zipcode_29597</th>\n",
       "      <th>zipcode_30723</th>\n",
       "      <th>zipcode_48052</th>\n",
       "      <th>zipcode_70466</th>\n",
       "      <th>zipcode_86630</th>\n",
       "      <th>zipcode_93700</th>\n",
       "      <th>earliest_cr_year</th>\n",
       "    </tr>\n",
       "  </thead>\n",
       "  <tbody>\n",
       "    <tr>\n",
       "      <th>0</th>\n",
       "      <td>10000.0</td>\n",
       "      <td>36</td>\n",
       "      <td>11.44</td>\n",
       "      <td>329.48</td>\n",
       "      <td>117000.0</td>\n",
       "      <td>Fully Paid</td>\n",
       "      <td>26.24</td>\n",
       "      <td>16.0</td>\n",
       "      <td>0.0</td>\n",
       "      <td>36369.0</td>\n",
       "      <td>...</td>\n",
       "      <td>0</td>\n",
       "      <td>0</td>\n",
       "      <td>1</td>\n",
       "      <td>0</td>\n",
       "      <td>0</td>\n",
       "      <td>0</td>\n",
       "      <td>0</td>\n",
       "      <td>0</td>\n",
       "      <td>0</td>\n",
       "      <td>1990</td>\n",
       "    </tr>\n",
       "    <tr>\n",
       "      <th>1</th>\n",
       "      <td>8000.0</td>\n",
       "      <td>36</td>\n",
       "      <td>11.99</td>\n",
       "      <td>265.68</td>\n",
       "      <td>65000.0</td>\n",
       "      <td>Fully Paid</td>\n",
       "      <td>22.05</td>\n",
       "      <td>17.0</td>\n",
       "      <td>0.0</td>\n",
       "      <td>20131.0</td>\n",
       "      <td>...</td>\n",
       "      <td>1</td>\n",
       "      <td>0</td>\n",
       "      <td>0</td>\n",
       "      <td>0</td>\n",
       "      <td>0</td>\n",
       "      <td>0</td>\n",
       "      <td>0</td>\n",
       "      <td>0</td>\n",
       "      <td>0</td>\n",
       "      <td>2004</td>\n",
       "    </tr>\n",
       "    <tr>\n",
       "      <th>2</th>\n",
       "      <td>15600.0</td>\n",
       "      <td>36</td>\n",
       "      <td>10.49</td>\n",
       "      <td>506.97</td>\n",
       "      <td>43057.0</td>\n",
       "      <td>Fully Paid</td>\n",
       "      <td>12.79</td>\n",
       "      <td>13.0</td>\n",
       "      <td>0.0</td>\n",
       "      <td>11987.0</td>\n",
       "      <td>...</td>\n",
       "      <td>1</td>\n",
       "      <td>0</td>\n",
       "      <td>0</td>\n",
       "      <td>0</td>\n",
       "      <td>0</td>\n",
       "      <td>0</td>\n",
       "      <td>0</td>\n",
       "      <td>0</td>\n",
       "      <td>0</td>\n",
       "      <td>2007</td>\n",
       "    </tr>\n",
       "  </tbody>\n",
       "</table>\n",
       "<p>3 rows × 81 columns</p>\n",
       "</div>"
      ],
      "text/plain": [
       "   loan_amnt  term  int_rate  installment  annual_inc loan_status    dti  \\\n",
       "0    10000.0    36     11.44       329.48    117000.0  Fully Paid  26.24   \n",
       "1     8000.0    36     11.99       265.68     65000.0  Fully Paid  22.05   \n",
       "2    15600.0    36     10.49       506.97     43057.0  Fully Paid  12.79   \n",
       "\n",
       "   open_acc  pub_rec  revol_bal  ...  zipcode_05113  zipcode_11650  \\\n",
       "0      16.0      0.0    36369.0  ...              0              0   \n",
       "1      17.0      0.0    20131.0  ...              1              0   \n",
       "2      13.0      0.0    11987.0  ...              1              0   \n",
       "\n",
       "   zipcode_22690  zipcode_29597 zipcode_30723  zipcode_48052  zipcode_70466  \\\n",
       "0              1              0             0              0              0   \n",
       "1              0              0             0              0              0   \n",
       "2              0              0             0              0              0   \n",
       "\n",
       "   zipcode_86630  zipcode_93700  earliest_cr_year  \n",
       "0              0              0              1990  \n",
       "1              0              0              2004  \n",
       "2              0              0              2007  \n",
       "\n",
       "[3 rows x 81 columns]"
      ]
     },
     "execution_count": 326,
     "metadata": {},
     "output_type": "execute_result"
    }
   ],
   "source": [
    "loan.head(3)"
   ]
  },
  {
   "cell_type": "code",
   "execution_count": 327,
   "id": "37d2e226",
   "metadata": {},
   "outputs": [],
   "source": [
    "loan.drop(columns=['loan_status'], axis=1, inplace=True)"
   ]
  },
  {
   "cell_type": "code",
   "execution_count": 331,
   "id": "6a1b536e",
   "metadata": {},
   "outputs": [],
   "source": [
    "loan.drop(columns=['address'], axis=1, inplace=True)"
   ]
  },
  {
   "cell_type": "code",
   "execution_count": 332,
   "id": "cc51d464",
   "metadata": {
    "scrolled": true
   },
   "outputs": [
    {
     "data": {
      "text/html": [
       "<div>\n",
       "<style scoped>\n",
       "    .dataframe tbody tr th:only-of-type {\n",
       "        vertical-align: middle;\n",
       "    }\n",
       "\n",
       "    .dataframe tbody tr th {\n",
       "        vertical-align: top;\n",
       "    }\n",
       "\n",
       "    .dataframe thead th {\n",
       "        text-align: right;\n",
       "    }\n",
       "</style>\n",
       "<table border=\"1\" class=\"dataframe\">\n",
       "  <thead>\n",
       "    <tr style=\"text-align: right;\">\n",
       "      <th></th>\n",
       "      <th>loan_amnt</th>\n",
       "      <th>term</th>\n",
       "      <th>int_rate</th>\n",
       "      <th>installment</th>\n",
       "      <th>annual_inc</th>\n",
       "      <th>dti</th>\n",
       "      <th>open_acc</th>\n",
       "      <th>pub_rec</th>\n",
       "      <th>revol_bal</th>\n",
       "      <th>revol_util</th>\n",
       "      <th>...</th>\n",
       "      <th>zipcode_05113</th>\n",
       "      <th>zipcode_11650</th>\n",
       "      <th>zipcode_22690</th>\n",
       "      <th>zipcode_29597</th>\n",
       "      <th>zipcode_30723</th>\n",
       "      <th>zipcode_48052</th>\n",
       "      <th>zipcode_70466</th>\n",
       "      <th>zipcode_86630</th>\n",
       "      <th>zipcode_93700</th>\n",
       "      <th>earliest_cr_year</th>\n",
       "    </tr>\n",
       "  </thead>\n",
       "  <tbody>\n",
       "    <tr>\n",
       "      <th>0</th>\n",
       "      <td>10000.0</td>\n",
       "      <td>36</td>\n",
       "      <td>11.44</td>\n",
       "      <td>329.48</td>\n",
       "      <td>117000.0</td>\n",
       "      <td>26.24</td>\n",
       "      <td>16.0</td>\n",
       "      <td>0.0</td>\n",
       "      <td>36369.0</td>\n",
       "      <td>41.8</td>\n",
       "      <td>...</td>\n",
       "      <td>0</td>\n",
       "      <td>0</td>\n",
       "      <td>1</td>\n",
       "      <td>0</td>\n",
       "      <td>0</td>\n",
       "      <td>0</td>\n",
       "      <td>0</td>\n",
       "      <td>0</td>\n",
       "      <td>0</td>\n",
       "      <td>1990</td>\n",
       "    </tr>\n",
       "    <tr>\n",
       "      <th>1</th>\n",
       "      <td>8000.0</td>\n",
       "      <td>36</td>\n",
       "      <td>11.99</td>\n",
       "      <td>265.68</td>\n",
       "      <td>65000.0</td>\n",
       "      <td>22.05</td>\n",
       "      <td>17.0</td>\n",
       "      <td>0.0</td>\n",
       "      <td>20131.0</td>\n",
       "      <td>53.3</td>\n",
       "      <td>...</td>\n",
       "      <td>1</td>\n",
       "      <td>0</td>\n",
       "      <td>0</td>\n",
       "      <td>0</td>\n",
       "      <td>0</td>\n",
       "      <td>0</td>\n",
       "      <td>0</td>\n",
       "      <td>0</td>\n",
       "      <td>0</td>\n",
       "      <td>2004</td>\n",
       "    </tr>\n",
       "    <tr>\n",
       "      <th>2</th>\n",
       "      <td>15600.0</td>\n",
       "      <td>36</td>\n",
       "      <td>10.49</td>\n",
       "      <td>506.97</td>\n",
       "      <td>43057.0</td>\n",
       "      <td>12.79</td>\n",
       "      <td>13.0</td>\n",
       "      <td>0.0</td>\n",
       "      <td>11987.0</td>\n",
       "      <td>92.2</td>\n",
       "      <td>...</td>\n",
       "      <td>1</td>\n",
       "      <td>0</td>\n",
       "      <td>0</td>\n",
       "      <td>0</td>\n",
       "      <td>0</td>\n",
       "      <td>0</td>\n",
       "      <td>0</td>\n",
       "      <td>0</td>\n",
       "      <td>0</td>\n",
       "      <td>2007</td>\n",
       "    </tr>\n",
       "  </tbody>\n",
       "</table>\n",
       "<p>3 rows × 79 columns</p>\n",
       "</div>"
      ],
      "text/plain": [
       "   loan_amnt  term  int_rate  installment  annual_inc    dti  open_acc  \\\n",
       "0    10000.0    36     11.44       329.48    117000.0  26.24      16.0   \n",
       "1     8000.0    36     11.99       265.68     65000.0  22.05      17.0   \n",
       "2    15600.0    36     10.49       506.97     43057.0  12.79      13.0   \n",
       "\n",
       "   pub_rec  revol_bal  revol_util  ...  zipcode_05113  zipcode_11650  \\\n",
       "0      0.0    36369.0        41.8  ...              0              0   \n",
       "1      0.0    20131.0        53.3  ...              1              0   \n",
       "2      0.0    11987.0        92.2  ...              1              0   \n",
       "\n",
       "   zipcode_22690  zipcode_29597  zipcode_30723  zipcode_48052  zipcode_70466  \\\n",
       "0              1              0              0              0              0   \n",
       "1              0              0              0              0              0   \n",
       "2              0              0              0              0              0   \n",
       "\n",
       "   zipcode_86630  zipcode_93700  earliest_cr_year  \n",
       "0              0              0              1990  \n",
       "1              0              0              2004  \n",
       "2              0              0              2007  \n",
       "\n",
       "[3 rows x 79 columns]"
      ]
     },
     "execution_count": 332,
     "metadata": {},
     "output_type": "execute_result"
    }
   ],
   "source": [
    "loan.head(3)"
   ]
  },
  {
   "cell_type": "markdown",
   "id": "07b94825",
   "metadata": {},
   "source": [
    "Checking if all null values have been removed"
   ]
  },
  {
   "cell_type": "code",
   "execution_count": 333,
   "id": "e63d88fc",
   "metadata": {
    "scrolled": true
   },
   "outputs": [
    {
     "name": "stdout",
     "output_type": "stream",
     "text": [
      "<class 'pandas.core.frame.DataFrame'>\n",
      "Int64Index: 395219 entries, 0 to 396029\n",
      "Data columns (total 79 columns):\n",
      " #   Column                               Non-Null Count   Dtype  \n",
      "---  ------                               --------------   -----  \n",
      " 0   loan_amnt                            395219 non-null  float64\n",
      " 1   term                                 395219 non-null  int64  \n",
      " 2   int_rate                             395219 non-null  float64\n",
      " 3   installment                          395219 non-null  float64\n",
      " 4   annual_inc                           395219 non-null  float64\n",
      " 5   dti                                  395219 non-null  float64\n",
      " 6   open_acc                             395219 non-null  float64\n",
      " 7   pub_rec                              395219 non-null  float64\n",
      " 8   revol_bal                            395219 non-null  float64\n",
      " 9   revol_util                           395219 non-null  float64\n",
      " 10  total_acc                            395219 non-null  float64\n",
      " 11  mort_acc                             395219 non-null  float64\n",
      " 12  pub_rec_bankruptcies                 395219 non-null  float64\n",
      " 13  loan_repaid                          395219 non-null  int64  \n",
      " 14  sub_grade_A2                         395219 non-null  uint8  \n",
      " 15  sub_grade_A3                         395219 non-null  uint8  \n",
      " 16  sub_grade_A4                         395219 non-null  uint8  \n",
      " 17  sub_grade_A5                         395219 non-null  uint8  \n",
      " 18  sub_grade_B1                         395219 non-null  uint8  \n",
      " 19  sub_grade_B2                         395219 non-null  uint8  \n",
      " 20  sub_grade_B3                         395219 non-null  uint8  \n",
      " 21  sub_grade_B4                         395219 non-null  uint8  \n",
      " 22  sub_grade_B5                         395219 non-null  uint8  \n",
      " 23  sub_grade_C1                         395219 non-null  uint8  \n",
      " 24  sub_grade_C2                         395219 non-null  uint8  \n",
      " 25  sub_grade_C3                         395219 non-null  uint8  \n",
      " 26  sub_grade_C4                         395219 non-null  uint8  \n",
      " 27  sub_grade_C5                         395219 non-null  uint8  \n",
      " 28  sub_grade_D1                         395219 non-null  uint8  \n",
      " 29  sub_grade_D2                         395219 non-null  uint8  \n",
      " 30  sub_grade_D3                         395219 non-null  uint8  \n",
      " 31  sub_grade_D4                         395219 non-null  uint8  \n",
      " 32  sub_grade_D5                         395219 non-null  uint8  \n",
      " 33  sub_grade_E1                         395219 non-null  uint8  \n",
      " 34  sub_grade_E2                         395219 non-null  uint8  \n",
      " 35  sub_grade_E3                         395219 non-null  uint8  \n",
      " 36  sub_grade_E4                         395219 non-null  uint8  \n",
      " 37  sub_grade_E5                         395219 non-null  uint8  \n",
      " 38  sub_grade_F1                         395219 non-null  uint8  \n",
      " 39  sub_grade_F2                         395219 non-null  uint8  \n",
      " 40  sub_grade_F3                         395219 non-null  uint8  \n",
      " 41  sub_grade_F4                         395219 non-null  uint8  \n",
      " 42  sub_grade_F5                         395219 non-null  uint8  \n",
      " 43  sub_grade_G1                         395219 non-null  uint8  \n",
      " 44  sub_grade_G2                         395219 non-null  uint8  \n",
      " 45  sub_grade_G3                         395219 non-null  uint8  \n",
      " 46  sub_grade_G4                         395219 non-null  uint8  \n",
      " 47  sub_grade_G5                         395219 non-null  uint8  \n",
      " 48  verification_status_Source Verified  395219 non-null  uint8  \n",
      " 49  verification_status_Verified         395219 non-null  uint8  \n",
      " 50  application_type_INDIVIDUAL          395219 non-null  uint8  \n",
      " 51  application_type_JOINT               395219 non-null  uint8  \n",
      " 52  initial_list_status_w                395219 non-null  uint8  \n",
      " 53  purpose_credit_card                  395219 non-null  uint8  \n",
      " 54  purpose_debt_consolidation           395219 non-null  uint8  \n",
      " 55  purpose_educational                  395219 non-null  uint8  \n",
      " 56  purpose_home_improvement             395219 non-null  uint8  \n",
      " 57  purpose_house                        395219 non-null  uint8  \n",
      " 58  purpose_major_purchase               395219 non-null  uint8  \n",
      " 59  purpose_medical                      395219 non-null  uint8  \n",
      " 60  purpose_moving                       395219 non-null  uint8  \n",
      " 61  purpose_other                        395219 non-null  uint8  \n",
      " 62  purpose_renewable_energy             395219 non-null  uint8  \n",
      " 63  purpose_small_business               395219 non-null  uint8  \n",
      " 64  purpose_vacation                     395219 non-null  uint8  \n",
      " 65  purpose_wedding                      395219 non-null  uint8  \n",
      " 66  home_ownership_OTHER                 395219 non-null  uint8  \n",
      " 67  home_ownership_OWN                   395219 non-null  uint8  \n",
      " 68  home_ownership_RENT                  395219 non-null  uint8  \n",
      " 69  zipcode_05113                        395219 non-null  uint8  \n",
      " 70  zipcode_11650                        395219 non-null  uint8  \n",
      " 71  zipcode_22690                        395219 non-null  uint8  \n",
      " 72  zipcode_29597                        395219 non-null  uint8  \n",
      " 73  zipcode_30723                        395219 non-null  uint8  \n",
      " 74  zipcode_48052                        395219 non-null  uint8  \n",
      " 75  zipcode_70466                        395219 non-null  uint8  \n",
      " 76  zipcode_86630                        395219 non-null  uint8  \n",
      " 77  zipcode_93700                        395219 non-null  uint8  \n",
      " 78  earliest_cr_year                     395219 non-null  int64  \n",
      "dtypes: float64(12), int64(3), uint8(64)\n",
      "memory usage: 80.4 MB\n"
     ]
    }
   ],
   "source": [
    "loan.info()"
   ]
  },
  {
   "cell_type": "markdown",
   "id": "af93f91a",
   "metadata": {},
   "source": [
    "Exporting the cleansed data as CSV for fitting ANN model using Google Colab "
   ]
  },
  {
   "cell_type": "code",
   "execution_count": 334,
   "id": "59d57cb6",
   "metadata": {},
   "outputs": [],
   "source": [
    "loan.to_csv('Lending club_preprocessed.csv')"
   ]
  },
  {
   "cell_type": "code",
   "execution_count": 337,
   "id": "1a54d144",
   "metadata": {},
   "outputs": [
    {
     "data": {
      "text/plain": [
       "<AxesSubplot:xlabel='annual_inc', ylabel='loan_amnt'>"
      ]
     },
     "execution_count": 337,
     "metadata": {},
     "output_type": "execute_result"
    },
    {
     "data": {
      "image/png": "[encoded data removed]",
      "text/plain": [
       "<Figure size 432x288 with 1 Axes>"
      ]
     },
     "metadata": {},
     "output_type": "display_data"
    }
   ],
   "source": [
    "sns.scatterplot(x='annual_inc', y='loan_amnt',data=loan, hue='loan_repaid')"
   ]
  },
  {
   "cell_type": "code",
   "execution_count": null,
   "id": "6db6eb42",
   "metadata": {},
   "outputs": [],
   "source": []
  }
 ],
 "metadata": {
  "kernelspec": {
   "display_name": "Python 3",
   "language": "python",
   "name": "python3"
  },
  "language_info": {
   "codemirror_mode": {
    "name": "ipython",
    "version": 3
   },
   "file_extension": ".py",
   "mimetype": "text/x-python",
   "name": "python",
   "nbconvert_exporter": "python",
   "pygments_lexer": "ipython3",
   "version": "3.8.8"
  }
 },
 "nbformat": 4,
 "nbformat_minor": 5
}
